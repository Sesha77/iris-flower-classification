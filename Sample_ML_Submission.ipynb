{
  "nbformat": 4,
  "nbformat_minor": 0,
  "metadata": {
    "colab": {
      "private_outputs": true,
      "provenance": [],
      "collapsed_sections": [
        "3RnN4peoiCZX",
        "x71ZqKXriCWQ",
        "7hBIi_osiCS2",
        "JlHwYmJAmNHm",
        "35m5QtbWiB9F",
        "PoPl-ycgm1ru",
        "H0kj-8xxnORC",
        "nA9Y7ga8ng1Z",
        "PBTbrJXOngz2",
        "u3PMJOP6ngxN",
        "dauF4eBmngu3",
        "bKJF3rekwFvQ",
        "MSa1f5Uengrz",
        "GF8Ens_Soomf",
        "0wOQAZs5pc--",
        "K5QZ13OEpz2H",
        "lQ7QKXXCp7Bj",
        "448CDAPjqfQr",
        "KSlN3yHqYklG",
        "t6dVpIINYklI",
        "ijmpgYnKYklI",
        "-JiQyfWJYklI",
        "EM7whBJCYoAo",
        "fge-S5ZAYoAp",
        "85gYPyotYoAp",
        "RoGjAbkUYoAp",
        "4Of9eVA-YrdM",
        "iky9q4vBYrdO",
        "F6T5p64dYrdO",
        "y-Ehk30pYrdP",
        "bamQiAODYuh1",
        "QHF8YVU7Yuh3",
        "GwzvFGzlYuh3",
        "qYpmQ266Yuh3",
        "OH-pJp9IphqM",
        "bbFf2-_FphqN",
        "_ouA3fa0phqN",
        "Seke61FWphqN",
        "PIIx-8_IphqN",
        "t27r6nlMphqO",
        "r2jJGEOYphqO",
        "b0JNsNcRphqO",
        "BZR9WyysphqO",
        "jj7wYXLtphqO",
        "eZrbJ2SmphqO",
        "rFu4xreNphqO",
        "YJ55k-q6phqO",
        "gCFgpxoyphqP",
        "OVtJsKN_phqQ",
        "lssrdh5qphqQ",
        "U2RJ9gkRphqQ",
        "1M8mcRywphqQ",
        "tgIPom80phqQ",
        "JMzcOPDDphqR",
        "x-EpHcCOp1ci",
        "X_VqEhTip1ck",
        "8zGJKyg5p1ck",
        "PVzmfK_Ep1ck",
        "n3dbpmDWp1ck",
        "ylSl6qgtp1ck",
        "ZWILFDl5p1ck",
        "M7G43BXep1ck",
        "Ag9LCva-p1cl",
        "E6MkPsBcp1cl",
        "2cELzS2fp1cl",
        "3MPXvC8up1cl",
        "NC_X3p0fY2L0",
        "UV0SzAkaZNRQ",
        "YPEH6qLeZNRQ",
        "q29F0dvdveiT",
        "EXh0U9oCveiU",
        "22aHeOlLveiV",
        "g-ATYxFrGrvw",
        "Yfr_Vlr8HBkt",
        "8yEUt7NnHlrM",
        "tEA2Xm5dHt1r",
        "I79__PHVH19G",
        "Ou-I18pAyIpj",
        "fF3858GYyt-u",
        "4_0_7-oCpUZd",
        "hwyV_J3ipUZe",
        "3yB-zSqbpUZe",
        "dEUvejAfpUZe",
        "Fd15vwWVpUZf",
        "bn_IUdTipZyH",
        "49K5P_iCpZyH",
        "Nff-vKELpZyI",
        "kLW572S8pZyI",
        "dWbDXHzopZyI",
        "7wuGOrhz0itI",
        "id1riN9m0vUs",
        "578E2V7j08f6",
        "89xtkJwZ18nB",
        "67NQN5KX2AMe",
        "Iwf50b-R2tYG",
        "GMQiZwjn3iu7",
        "WVIkgGqN3qsr",
        "XkPnILGE3zoT",
        "Hlsf0x5436Go",
        "mT9DMSJo4nBL",
        "c49ITxTc407N",
        "OeJFEK0N496M",
        "9ExmJH0g5HBk",
        "cJNqERVU536h",
        "k5UmGsbsOxih",
        "T0VqWOYE6DLQ",
        "qBMux9mC6MCf",
        "-oLEiFgy-5Pf",
        "C74aWNz2AliB",
        "2DejudWSA-a0",
        "pEMng2IbBLp7",
        "rAdphbQ9Bhjc",
        "TNVZ9zx19K6k",
        "nqoHp30x9hH9",
        "rMDnDkt2B6du",
        "yiiVWRdJDDil",
        "1UUpS68QDMuG",
        "kexQrXU-DjzY",
        "T5CmagL3EC8N",
        "EyNgTHvd2WFk",
        "KH5McJBi2d8v",
        "iW_Lq9qf2h6X",
        "-Kee-DAl2viO"
      ]
    },
    "kernelspec": {
      "name": "python3",
      "display_name": "Python 3"
    },
    "language_info": {
      "name": "python"
    }
  },
  "cells": [
    {
      "cell_type": "markdown",
      "source": [
        "# **Project Name**    -\n",
        "\n"
      ],
      "metadata": {
        "id": "vncDsAP0Gaoa"
      }
    },
    {
      "cell_type": "markdown",
      "source": [
        "##### **Project Type**    - EDA/Regression/Classification/Unsupervised\n",
        "##### **Contribution**    - Individual/Team\n"
      ],
      "metadata": {
        "id": "beRrZCGUAJYm"
      }
    },
    {
      "cell_type": "markdown",
      "source": [
        "# **Project Summary -**"
      ],
      "metadata": {
        "id": "FJNUwmbgGyua"
      }
    },
    {
      "cell_type": "markdown",
      "source": [
        "**Iris Flower Classification using Machine Learning**\n",
        "The project \"Iris Flower Classification Using Machine Learning\" focuses on building an efficient predictive model to classify Iris flowers into one of three species: Iris-setosa, Iris-versicolor, or Iris-virginica, using supervised learning techniques.\n",
        "\n",
        "The dataset, sourced from the UCI Machine Learning Repository, contains 150 samples with four numerical features: sepal length, sepal width, petal length, and petal width. The project begins with data preprocessing, including duplicate/missing value checks and outlier handling, followed by exploratory data analysis (EDA) using visualizations like pair plots, heatmaps, and box plots.\n",
        "\n",
        "Several machine learning models were implemented, including Logistic Regression, K-Nearest Neighbors (KNN), and Decision Tree Classifier. Among these, the Decision Tree model, optimized using GridSearchCV, outperformed others with 100% accuracy on the test data.\n",
        "\n",
        "Feature importance analysis confirmed that petal length and width are the most influential features in determining the flower species. Evaluation metrics such as accuracy, precision, recall, and F1-score were used to validate model performance, ensuring the solution is robust and reliable.\n",
        "\n",
        "The final model is interpretable, fast, and highly accurate, making it suitable for educational use, botanical research, and mobile apps for real-time flower identification. This project demonstrates how machine learning can turn structured data into intelligent, real-world predictions.\n",
        "\n"
      ],
      "metadata": {
        "id": "F6v_1wHtG2nS"
      }
    },
    {
      "cell_type": "markdown",
      "source": [
        "# **GitHub Link -**"
      ],
      "metadata": {
        "id": "w6K7xa23Elo4"
      }
    },
    {
      "cell_type": "markdown",
      "source": [],
      "metadata": {
        "id": "h1o69JH3Eqqn"
      }
    },
    {
      "cell_type": "markdown",
      "source": [
        "# **Problem Statement**\n"
      ],
      "metadata": {
        "id": "yQaldy8SH6Dl"
      }
    },
    {
      "cell_type": "markdown",
      "source": [
        "The objective of this project is to build a machine learning model that can accurately classify Iris flowers into three species — Iris-setosa, Iris-versicolor, and Iris-virginica — based on four measurable features:\n",
        "\n",
        "Sepal Length\n",
        "\n",
        "Sepal Width\n",
        "\n",
        "Petal Length\n",
        "\n",
        "Petal Width\n",
        "\n",
        "🎯 Goal:\n",
        "To develop a classification model that can predict the species of an Iris flower given its morphological measurements using supervised machine learning techniques.\n",
        "\n",
        "**Write Problem Statement Here.**"
      ],
      "metadata": {
        "id": "DpeJGUA3kjGy"
      }
    },
    {
      "cell_type": "markdown",
      "source": [
        "# **General Guidelines** : -  "
      ],
      "metadata": {
        "id": "mDgbUHAGgjLW"
      }
    },
    {
      "cell_type": "markdown",
      "source": [
        "1.   Well-structured, formatted, and commented code is required.\n",
        "2.   Exception Handling, Production Grade Code & Deployment Ready Code will be a plus. Those students will be awarded some additional credits.\n",
        "     \n",
        "     The additional credits will have advantages over other students during Star Student selection.\n",
        "       \n",
        "             [ Note: - Deployment Ready Code is defined as, the whole .ipynb notebook should be executable in one go\n",
        "                       without a single error logged. ]\n",
        "\n",
        "3.   Each and every logic should have proper comments.\n",
        "4. You may add as many number of charts you want. Make Sure for each and every chart the following format should be answered.\n",
        "        \n",
        "\n",
        "```\n",
        "# Chart visualization code\n",
        "```\n",
        "            \n",
        "\n",
        "*   Why did you pick the specific chart?\n",
        "*   What is/are the insight(s) found from the chart?\n",
        "* Will the gained insights help creating a positive business impact?\n",
        "Are there any insights that lead to negative growth? Justify with specific reason.\n",
        "\n",
        "5. You have to create at least 15 logical & meaningful charts having important insights.\n",
        "\n",
        "\n",
        "[ Hints : - Do the Vizualization in  a structured way while following \"UBM\" Rule.\n",
        "\n",
        "U - Univariate Analysis,\n",
        "\n",
        "B - Bivariate Analysis (Numerical - Categorical, Numerical - Numerical, Categorical - Categorical)\n",
        "\n",
        "M - Multivariate Analysis\n",
        " ]\n",
        "\n",
        "\n",
        "\n",
        "\n",
        "\n",
        "6. You may add more ml algorithms for model creation. Make sure for each and every algorithm, the following format should be answered.\n",
        "\n",
        "\n",
        "*   Explain the ML Model used and it's performance using Evaluation metric Score Chart.\n",
        "\n",
        "\n",
        "*   Cross- Validation & Hyperparameter Tuning\n",
        "\n",
        "*   Have you seen any improvement? Note down the improvement with updates Evaluation metric Score Chart.\n",
        "\n",
        "*   Explain each evaluation metric's indication towards business and the business impact pf the ML model used.\n",
        "\n",
        "\n",
        "\n",
        "\n",
        "\n",
        "\n",
        "\n",
        "\n",
        "\n",
        "\n",
        "\n",
        "\n",
        "\n",
        "\n",
        "\n",
        "\n",
        "\n",
        "\n"
      ],
      "metadata": {
        "id": "ZrxVaUj-hHfC"
      }
    },
    {
      "cell_type": "markdown",
      "source": [
        "# ***Let's Begin !***"
      ],
      "metadata": {
        "id": "O_i_v8NEhb9l"
      }
    },
    {
      "cell_type": "markdown",
      "source": [
        "## ***1. Know Your Data***"
      ],
      "metadata": {
        "id": "HhfV-JJviCcP"
      }
    },
    {
      "cell_type": "markdown",
      "source": [
        "### Import Libraries"
      ],
      "metadata": {
        "id": "Y3lxredqlCYt"
      }
    },
    {
      "cell_type": "code",
      "source": [
        "# Data handling\n",
        "import pandas as pd\n",
        "import numpy as np\n",
        "\n",
        "# Data visualization (optional but recommended)\n",
        "import matplotlib.pyplot as plt\n",
        "import seaborn as sns\n",
        "\n",
        "# Machine learning models and tools\n",
        "from sklearn.model_selection import train_test_split\n",
        "from sklearn.preprocessing import LabelEncoder\n",
        "from sklearn.linear_model import LogisticRegression\n",
        "from sklearn.tree import DecisionTreeClassifier\n",
        "from sklearn.neighbors import KNeighborsClassifier\n",
        "from sklearn.metrics import accuracy_score, classification_report, confusion_matrix"
      ],
      "metadata": {
        "id": "M8Vqi-pPk-HR"
      },
      "execution_count": null,
      "outputs": []
    },
    {
      "cell_type": "markdown",
      "source": [
        "### Dataset Loading"
      ],
      "metadata": {
        "id": "3RnN4peoiCZX"
      }
    },
    {
      "cell_type": "code",
      "source": [
        "# Load Dataset\n",
        "import pandas as pd\n",
        "\n",
        "df = pd.read_csv(\"/content/Iris.csv\")  # Assuming you've downloaded the 'saurabh00007/iriscsv' dataset\n"
      ],
      "metadata": {
        "id": "4CkvbW_SlZ_R"
      },
      "execution_count": null,
      "outputs": []
    },
    {
      "cell_type": "markdown",
      "source": [
        "### Dataset First View"
      ],
      "metadata": {
        "id": "x71ZqKXriCWQ"
      }
    },
    {
      "cell_type": "code",
      "source": [
        "# Display first 5 rows\n",
        "df.head()\n"
      ],
      "metadata": {
        "id": "LWNFOSvLl09H"
      },
      "execution_count": null,
      "outputs": []
    },
    {
      "cell_type": "markdown",
      "source": [
        "### Dataset Rows & Columns count"
      ],
      "metadata": {
        "id": "7hBIi_osiCS2"
      }
    },
    {
      "cell_type": "code",
      "source": [
        "# Shape of the dataset\n",
        "print(f\"Number of Rows: {df.shape[0]}\")\n",
        "print(f\"Number of Columns: {df.shape[1]}\")\n"
      ],
      "metadata": {
        "id": "Kllu7SJgmLij"
      },
      "execution_count": null,
      "outputs": []
    },
    {
      "cell_type": "markdown",
      "source": [
        "### Dataset Information"
      ],
      "metadata": {
        "id": "JlHwYmJAmNHm"
      }
    },
    {
      "cell_type": "code",
      "source": [
        "# Data summary\n",
        "df.info()\n"
      ],
      "metadata": {
        "id": "e9hRXRi6meOf"
      },
      "execution_count": null,
      "outputs": []
    },
    {
      "cell_type": "markdown",
      "source": [
        "#### Duplicate Values"
      ],
      "metadata": {
        "id": "35m5QtbWiB9F"
      }
    },
    {
      "cell_type": "code",
      "source": [
        "# Dataset Duplicate Value Count\n",
        "duplicate_count = df.duplicated().sum()\n",
        "print(f\"Number of duplicate rows: {duplicate_count}\")\n"
      ],
      "metadata": {
        "id": "1sLdpKYkmox0"
      },
      "execution_count": null,
      "outputs": []
    },
    {
      "cell_type": "markdown",
      "source": [
        "#### Missing Values/Null Values"
      ],
      "metadata": {
        "id": "PoPl-ycgm1ru"
      }
    },
    {
      "cell_type": "code",
      "source": [
        "# Check for missing/null values\n",
        "missing_values = df.isnull().sum()\n",
        "print(\"Missing values in each column:\\n\", missing_values)\n"
      ],
      "metadata": {
        "id": "GgHWkxvamxVg"
      },
      "execution_count": null,
      "outputs": []
    },
    {
      "cell_type": "code",
      "source": [
        "# Visualizing the missing valuesimport seaborn as sns\n",
        "import matplotlib.pyplot as plt\n",
        "\n",
        "# Visualize missing values using a heatmap\n",
        "plt.figure(figsize=(8, 4))\n",
        "sns.heatmap(df.isnull(), cbar=False, cmap='viridis', yticklabels=False)\n",
        "plt.title(\"Missing Values Heatmap\")\n",
        "plt.show()\n"
      ],
      "metadata": {
        "id": "3q5wnI3om9sJ"
      },
      "execution_count": null,
      "outputs": []
    },
    {
      "cell_type": "markdown",
      "source": [
        "### What did you know about your dataset?"
      ],
      "metadata": {
        "id": "H0kj-8xxnORC"
      }
    },
    {
      "cell_type": "markdown",
      "source": [
        "The dataset contains 150 rows and 5 features. It has no missing or duplicate values. The target variable is categorical with 3 balanced classes: Setosa, Versicolor, and Virginica.\n",
        "Answer Here"
      ],
      "metadata": {
        "id": "gfoNAAC-nUe_"
      }
    },
    {
      "cell_type": "markdown",
      "source": [
        "## ***2. Understanding Your Variables***"
      ],
      "metadata": {
        "id": "nA9Y7ga8ng1Z"
      }
    },
    {
      "cell_type": "code",
      "source": [
        "# Display dataset columns\n",
        "print(\"Columns:\", df.columns.tolist())\n"
      ],
      "metadata": {
        "id": "j7xfkqrt5Ag5"
      },
      "execution_count": null,
      "outputs": []
    },
    {
      "cell_type": "code",
      "source": [
        "# Summary statistics\n",
        "df.describe()\n"
      ],
      "metadata": {
        "id": "DnOaZdaE5Q5t"
      },
      "execution_count": null,
      "outputs": []
    },
    {
      "cell_type": "markdown",
      "source": [
        "### Variables Description"
      ],
      "metadata": {
        "id": "PBTbrJXOngz2"
      }
    },
    {
      "cell_type": "markdown",
      "source": [
        "SepalLengthCm, SepalWidthCm, PetalLengthCm, PetalWidthCm are numerical features representing flower measurements in cm.\n",
        "\n",
        "Species is a categorical target with three classes: Iris-setosa, Iris-versicolor, Iris-virginica.Answer Here"
      ],
      "metadata": {
        "id": "aJV4KIxSnxay"
      }
    },
    {
      "cell_type": "markdown",
      "source": [
        "### Check Unique Values for each variable."
      ],
      "metadata": {
        "id": "u3PMJOP6ngxN"
      }
    },
    {
      "cell_type": "code",
      "source": [
        "# Check Unique Values for each variable.# Unique values for each variable\n",
        "for col in df.columns:\n",
        "    print(f\"{col}: {df[col].nunique()} unique values\")\n"
      ],
      "metadata": {
        "id": "zms12Yq5n-jE"
      },
      "execution_count": null,
      "outputs": []
    },
    {
      "cell_type": "markdown",
      "source": [
        "## 3. ***Data Wrangling***"
      ],
      "metadata": {
        "id": "dauF4eBmngu3"
      }
    },
    {
      "cell_type": "markdown",
      "source": [
        "### Data Wrangling Code"
      ],
      "metadata": {
        "id": "bKJF3rekwFvQ"
      }
    },
    {
      "cell_type": "code",
      "source": [
        "# Write your code to make your dataset analysis ready.# Drop irrelevant column\n",
        "df.drop('Id', axis=1, inplace=True)\n",
        "\n",
        "# Encode target variable\n",
        "from sklearn.preprocessing import LabelEncoder\n",
        "le = LabelEncoder()\n",
        "df['Species'] = le.fit_transform(df['Species'])\n",
        "\n",
        "# Optional: Check correlation matrix\n",
        "import seaborn as sns\n",
        "import matplotlib.pyplot as plt\n",
        "\n",
        "plt.figure(figsize=(6, 4))\n",
        "sns.heatmap(df.corr(), annot=True, cmap='coolwarm')\n",
        "plt.title(\"Feature Correlation\")\n",
        "plt.show()\n"
      ],
      "metadata": {
        "id": "wk-9a2fpoLcV"
      },
      "execution_count": null,
      "outputs": []
    },
    {
      "cell_type": "markdown",
      "source": [
        "### What all manipulations have you done and insights you found?"
      ],
      "metadata": {
        "id": "MSa1f5Uengrz"
      }
    },
    {
      "cell_type": "markdown",
      "source": [
        "Dropped Unnecessary Columns\n",
        "\n",
        "Removed Id column as it does not carry any predictive power.\n",
        "\n",
        "Checked & Handled Missing Values\n",
        "\n",
        "Verified that the dataset had no missing values, so no imputation was required.\n",
        "\n",
        "Removed Duplicates\n",
        "\n",
        "Checked for and removed any duplicate records to avoid data leakage and bias.\n",
        "\n",
        "Outlier Detection\n",
        "\n",
        "Used boxplots to visualize outliers. No extreme outliers were found in most features.\n",
        "\n",
        "Label Encoding (if applied)\n",
        "\n",
        "Not required unless modeling demanded numeric encoding for the Species column.\n",
        "\n",
        "Exploratory Data Analysis (EDA)\n",
        "\n",
        "Plotted histograms, box plots, pair plots, and 3D scatter plots to understand feature distributions and class separation.\n",
        "\n",
        "Feature Correlation Analysis\n",
        "\n",
        "Computed correlation matrix to detect highly correlated features like:\n",
        "\n",
        "Petal Length ↔ Petal Width (strong positive correlation)\n",
        "\n",
        "Scaling (if modeling stage is included)\n",
        "\n",
        "Used StandardScaler to normalize the numerical features before applying machine learning models.\n",
        "\n",
        "Data Splitting\n",
        "\n",
        "Split the dataset into training and testing sets using an 80:20 ratio.\n",
        "\n",
        " Insights Found:\n",
        "Petal Length and Petal Width are the most informative features for classifying species.\n",
        "\n",
        "Iris-setosa is easily separable from other species based on petal features.\n",
        "\n",
        "Iris-versicolor and Iris-virginica have some overlap, requiring more powerful classifiers.\n",
        "\n",
        "Sepal features (especially Sepal Width) are less discriminative but may still add value.\n",
        "\n",
        "No significant outliers or missing values were present, indicating a clean and balanced dataset.\n",
        "\n"
      ],
      "metadata": {
        "id": "LbyXE7I1olp8"
      }
    },
    {
      "cell_type": "markdown",
      "source": [
        "## ***4. Data Vizualization, Storytelling & Experimenting with charts : Understand the relationships between variables***"
      ],
      "metadata": {
        "id": "GF8Ens_Soomf"
      }
    },
    {
      "cell_type": "markdown",
      "source": [
        "#### Chart - 1"
      ],
      "metadata": {
        "id": "0wOQAZs5pc--"
      }
    },
    {
      "cell_type": "code",
      "source": [
        "# Chart - 1 visualization codeimport seaborn as sns\n",
        "import matplotlib.pyplot as plt\n",
        "\n",
        "# Count plot of target variable\n",
        "plt.figure(figsize=(6, 4))\n",
        "sns.countplot(data=df, x='Species')\n",
        "plt.title('Distribution of Iris Species')\n",
        "plt.xlabel('Species')\n",
        "plt.ylabel('Count')\n",
        "plt.show()\n"
      ],
      "metadata": {
        "id": "7v_ESjsspbW7"
      },
      "execution_count": null,
      "outputs": []
    },
    {
      "cell_type": "markdown",
      "source": [
        "##### 1. Why did you pick the specific chart?"
      ],
      "metadata": {
        "id": "K5QZ13OEpz2H"
      }
    },
    {
      "cell_type": "markdown",
      "source": [
        "I chose a count plot because it is ideal for visualizing the distribution of categorical variables. It gives a clear understanding of the number of samples for each Iris species, which is important to check for class imbalance before model training.Answer Here."
      ],
      "metadata": {
        "id": "XESiWehPqBRc"
      }
    },
    {
      "cell_type": "markdown",
      "source": [
        "##### 2. What is/are the insight(s) found from the chart?"
      ],
      "metadata": {
        "id": "lQ7QKXXCp7Bj"
      }
    },
    {
      "cell_type": "markdown",
      "source": [
        "All three species (Setosa, Versicolor, Virginica) have exactly 50 samples.\n",
        "\n",
        "The dataset is perfectly balanced, which ensures fair model training and no bias toward any class.Answer Here"
      ],
      "metadata": {
        "id": "C_j1G7yiqdRP"
      }
    },
    {
      "cell_type": "markdown",
      "source": [
        "##### 3. Will the gained insights help creating a positive business impact?\n",
        "Are there any insights that lead to negative growth? Justify with specific reason."
      ],
      "metadata": {
        "id": "448CDAPjqfQr"
      }
    },
    {
      "cell_type": "markdown",
      "source": [
        "Are there any insights that lead to negative growth? Justify with a specific reason.\n",
        "\n",
        "Answer:\n",
        "Yes, the insights have a positive impact. A balanced dataset ensures that the machine learning model will not be biased, leading to more accurate and fair predictions, which is essential for applications in agriculture, botany, or automated flower species identification.\n",
        "\n",
        "There are no negative insights from this chart. If imbalance was found, it might have led to biased predictions and poorer generalization in real-world applications — but that is not the case here.Answer Here"
      ],
      "metadata": {
        "id": "3cspy4FjqxJW"
      }
    },
    {
      "cell_type": "markdown",
      "source": [
        "#### Chart - 2"
      ],
      "metadata": {
        "id": "KSlN3yHqYklG"
      }
    },
    {
      "cell_type": "code",
      "source": [
        "# Chart - 2 visualization codeimport seaborn as sns\n",
        "import matplotlib.pyplot as plt\n",
        "\n",
        "# Boxplot for Petal Length grouped by Species\n",
        "plt.figure(figsize=(8, 5))\n",
        "sns.boxplot(x='Species', y='PetalLengthCm', data=df)\n",
        "plt.title('Box Plot of Petal Length by Species')\n",
        "plt.xlabel('Species')\n",
        "plt.ylabel('Petal Length (cm)')\n",
        "plt.show()\n"
      ],
      "metadata": {
        "id": "R4YgtaqtYklH"
      },
      "execution_count": null,
      "outputs": []
    },
    {
      "cell_type": "markdown",
      "source": [
        "##### 1. Why did you pick the specific chart?"
      ],
      "metadata": {
        "id": "t6dVpIINYklI"
      }
    },
    {
      "cell_type": "markdown",
      "source": [
        "I chose a box plot because it is excellent for showing the distribution, spread, and outliers of numerical features across different categories. This helps compare the variation of petal length among different Iris species."
      ],
      "metadata": {
        "id": "5aaW0BYyYklI"
      }
    },
    {
      "cell_type": "markdown",
      "source": [
        "##### 2. What is/are the insight(s) found from the chart?"
      ],
      "metadata": {
        "id": "ijmpgYnKYklI"
      }
    },
    {
      "cell_type": "markdown",
      "source": [
        "Iris-setosa has significantly shorter petal lengths with no overlap with other species.\n",
        "\n",
        "Iris-versicolor and Iris-virginica have some overlapping ranges but different medians.\n",
        "\n",
        "There are no significant outliers, indicating well-behaved data.\n",
        "\n"
      ],
      "metadata": {
        "id": "PSx9atu2YklI"
      }
    },
    {
      "cell_type": "markdown",
      "source": [
        "##### 3. Will the gained insights help creating a positive business impact?\n",
        "Are there any insights that lead to negative growth? Justify with specific reason."
      ],
      "metadata": {
        "id": "-JiQyfWJYklI"
      }
    },
    {
      "cell_type": "markdown",
      "source": [
        "Yes, the insights are helpful. Knowing that petal length is a strong differentiator, especially for Iris-setosa, can improve the accuracy of species classification systems used in botany, agriculture, or automated gardening.\n",
        "\n",
        "There are no negative insights here. If overlap was too high, it might reduce model accuracy, but the separation is sufficient for effective model performance.\n",
        "\n",
        "Answer Here"
      ],
      "metadata": {
        "id": "BcBbebzrYklV"
      }
    },
    {
      "cell_type": "markdown",
      "source": [
        "#### Chart - 3"
      ],
      "metadata": {
        "id": "EM7whBJCYoAo"
      }
    },
    {
      "cell_type": "code",
      "source": [
        "# Chart - 3 visualization codeimport seaborn as sns\n",
        "import matplotlib.pyplot as plt\n",
        "\n",
        "# Correlation heatmap\n",
        "plt.figure(figsize=(8, 6))\n",
        "sns.heatmap(df.corr(), annot=True, cmap='coolwarm', linewidths=0.5)\n",
        "plt.title('Correlation Heatmap of Iris Features')\n",
        "plt.show()\n"
      ],
      "metadata": {
        "id": "t6GMdE67YoAp"
      },
      "execution_count": null,
      "outputs": []
    },
    {
      "cell_type": "markdown",
      "source": [
        "##### 1. Why did you pick the specific chart?"
      ],
      "metadata": {
        "id": "fge-S5ZAYoAp"
      }
    },
    {
      "cell_type": "markdown",
      "source": [
        "I selected the correlation heatmap to visualize the linear relationships between numerical features. It helps identify which features are strongly correlated and may contribute the most to the classification task.Answer Here."
      ],
      "metadata": {
        "id": "5dBItgRVYoAp"
      }
    },
    {
      "cell_type": "markdown",
      "source": [
        "##### 2. What is/are the insight(s) found from the chart?"
      ],
      "metadata": {
        "id": "85gYPyotYoAp"
      }
    },
    {
      "cell_type": "markdown",
      "source": [
        "Petal length and petal width have a very high positive correlation (~0.96), indicating redundancy.\n",
        "\n",
        "Sepal width has a weak or slightly negative correlation with other features.\n",
        "\n",
        "Petal-related features are more important predictors of species.\n",
        "\n",
        "Answer Here"
      ],
      "metadata": {
        "id": "4jstXR6OYoAp"
      }
    },
    {
      "cell_type": "markdown",
      "source": [
        "##### 3. Will the gained insights help creating a positive business impact?\n",
        "Are there any insights that lead to negative growth? Justify with specific reason."
      ],
      "metadata": {
        "id": "RoGjAbkUYoAp"
      }
    },
    {
      "cell_type": "markdown",
      "source": [
        "Yes, these insights support better feature selection and reduce dimensionality for model efficiency, which positively impacts prediction performance.\n",
        "There is no negative growth, but highly correlated features (like petal length and width) could lead to multicollinearity in certain models. This can be mitigated by dimensionality reduction or feature selection techniques."
      ],
      "metadata": {
        "id": "zfJ8IqMcYoAp"
      }
    },
    {
      "cell_type": "markdown",
      "source": [
        "#### Chart - 4"
      ],
      "metadata": {
        "id": "4Of9eVA-YrdM"
      }
    },
    {
      "cell_type": "code",
      "source": [
        "# Chart - 4 visualization codeimport seaborn as sns\n",
        "import matplotlib.pyplot as plt\n",
        "\n",
        "# Histogram for Sepal Width\n",
        "plt.figure(figsize=(7, 5))\n",
        "sns.histplot(data=df, x='SepalWidthCm', bins=15, kde=True, hue='Species', multiple='stack')\n",
        "plt.title('Histogram of Sepal Width by Species')\n",
        "plt.xlabel('Sepal Width (cm)')\n",
        "plt.ylabel('Frequency')\n",
        "plt.show()\n"
      ],
      "metadata": {
        "id": "irlUoxc8YrdO"
      },
      "execution_count": null,
      "outputs": []
    },
    {
      "cell_type": "markdown",
      "source": [
        "##### 1. Why did you pick the specific chart?"
      ],
      "metadata": {
        "id": "iky9q4vBYrdO"
      }
    },
    {
      "cell_type": "markdown",
      "source": [
        "I chose a histogram with KDE (Kernel Density Estimation) to visualize the distribution of SepalWidthCm for different species. This helps in understanding how spread out or clustered the values are for each class.\n",
        "\n",
        "Answer Here."
      ],
      "metadata": {
        "id": "aJRCwT6DYrdO"
      }
    },
    {
      "cell_type": "markdown",
      "source": [
        "##### 2. What is/are the insight(s) found from the chart?"
      ],
      "metadata": {
        "id": "F6T5p64dYrdO"
      }
    },
    {
      "cell_type": "markdown",
      "source": [
        "Iris-setosa tends to have higher sepal width than the other two species.\n",
        "\n",
        "Versicolor and virginica have overlapping distributions.\n",
        "\n",
        "The histogram shows a slightly right-skewed distribution for sepal width.\n",
        "\n",
        "Answer Here"
      ],
      "metadata": {
        "id": "Xx8WAJvtYrdO"
      }
    },
    {
      "cell_type": "markdown",
      "source": [
        "##### 3. Will the gained insights help creating a positive business impact?\n",
        "Are there any insights that lead to negative growth? Justify with specific reason."
      ],
      "metadata": {
        "id": "y-Ehk30pYrdP"
      }
    },
    {
      "cell_type": "markdown",
      "source": [
        "Yes, these insights help in feature understanding and model interpretability. Knowing how species differ in sepal width improves decision-making in botanical classification systems.\n",
        "\n",
        "There are no negative impacts, but the overlap between versicolor and virginica could slightly reduce model accuracy unless other features are used to assist the distinction.\n",
        "\n",
        "Answer Here"
      ],
      "metadata": {
        "id": "jLNxxz7MYrdP"
      }
    },
    {
      "cell_type": "markdown",
      "source": [
        "#### Chart - 5"
      ],
      "metadata": {
        "id": "bamQiAODYuh1"
      }
    },
    {
      "cell_type": "code",
      "source": [
        "import seaborn as sns\n",
        "import matplotlib.pyplot as plt\n",
        "\n",
        "# Violin plot for Petal Width by Species\n",
        "plt.figure(figsize=(8, 5))\n",
        "sns.violinplot(x='Species', y='PetalWidthCm', data=df, palette='Set2')\n",
        "plt.title('Violin Plot of Petal Width by Species')\n",
        "plt.xlabel('Species')\n",
        "plt.ylabel('Petal Width (cm)')\n",
        "plt.show()\n"
      ],
      "metadata": {
        "id": "TIJwrbroYuh3"
      },
      "execution_count": null,
      "outputs": []
    },
    {
      "cell_type": "markdown",
      "source": [
        "##### 1. Why did you pick the specific chart?"
      ],
      "metadata": {
        "id": "QHF8YVU7Yuh3"
      }
    },
    {
      "cell_type": "markdown",
      "source": [
        "The violin plot allows us to see the distribution, density, and range of petal width values across different species. It provides more detail than a box plot, showing both central tendency and variability, making it ideal for comparison between classes."
      ],
      "metadata": {
        "id": "dcxuIMRPYuh3"
      }
    },
    {
      "cell_type": "markdown",
      "source": [
        "##### 2. What is/are the insight(s) found from the chart?"
      ],
      "metadata": {
        "id": "GwzvFGzlYuh3"
      }
    },
    {
      "cell_type": "markdown",
      "source": [
        "Setosa has the narrowest petal widths with very low variance.\n",
        "\n",
        "Versicolor petal widths are centered around 1.3 cm.\n",
        "\n",
        "Virginica shows the widest and most varied petal widths.\n",
        "This makes petal width a very strong feature for distinguishing species.\n",
        "\n"
      ],
      "metadata": {
        "id": "uyqkiB8YYuh3"
      }
    },
    {
      "cell_type": "markdown",
      "source": [
        "##### 3. Will the gained insights help creating a positive business impact?\n",
        "Are there any insights that lead to negative growth? Justify with specific reason."
      ],
      "metadata": {
        "id": "qYpmQ266Yuh3"
      }
    },
    {
      "cell_type": "markdown",
      "source": [
        "Yes, these insights help in accurate feature selection, leading to better predictive models in plant classification and botany automation.\n",
        "There are no negative growth insights, but if distributions overlapped too much, classification accuracy could drop. Fortunately, in this case, the separation is clear.\n",
        "\n",
        "Answer Here"
      ],
      "metadata": {
        "id": "_WtzZ_hCYuh4"
      }
    },
    {
      "cell_type": "markdown",
      "source": [
        "#### Chart - 6"
      ],
      "metadata": {
        "id": "OH-pJp9IphqM"
      }
    },
    {
      "cell_type": "code",
      "source": [
        "# Chart - 6 visualization code# Strip plot for Sepal Length by Species\n",
        "plt.figure(figsize=(8, 5))\n",
        "sns.stripplot(x='Species', y='SepalLengthCm', data=df, jitter=True, palette='husl')\n",
        "plt.title('Strip Plot of Sepal Length by Species')\n",
        "plt.xlabel('Species')\n",
        "plt.ylabel('Sepal Length (cm)')\n",
        "plt.show()\n"
      ],
      "metadata": {
        "id": "kuRf4wtuphqN"
      },
      "execution_count": null,
      "outputs": []
    },
    {
      "cell_type": "markdown",
      "source": [
        "##### 1. Why did you pick the specific chart?"
      ],
      "metadata": {
        "id": "bbFf2-_FphqN"
      }
    },
    {
      "cell_type": "markdown",
      "source": [
        "I chose the strip plot because it shows individual data points and how they are distributed across categories (species). It is useful for identifying clustering and overlaps that may not be visible in box plots or histograms, especially when data volume is small like in the Iris dataset.\n",
        "\n",
        "Answer Here."
      ],
      "metadata": {
        "id": "loh7H2nzphqN"
      }
    },
    {
      "cell_type": "markdown",
      "source": [
        "##### 2. What is/are the insight(s) found from the chart?"
      ],
      "metadata": {
        "id": "_ouA3fa0phqN"
      }
    },
    {
      "cell_type": "markdown",
      "source": [
        "Setosa shows a tight cluster of lower sepal lengths.\n",
        "\n",
        "Versicolor and virginica have overlapping values, making them harder to separate based only on sepal length.\n",
        "\n",
        "The spread in virginica is slightly higher, indicating more variation.\n",
        "\n",
        "Answer Here"
      ],
      "metadata": {
        "id": "VECbqPI7phqN"
      }
    },
    {
      "cell_type": "markdown",
      "source": [
        "##### 3. Will the gained insights help creating a positive business impact?\n",
        "Are there any insights that lead to negative growth? Justify with specific reason."
      ],
      "metadata": {
        "id": "Seke61FWphqN"
      }
    },
    {
      "cell_type": "markdown",
      "source": [
        "Yes, these insights reveal that sepal length alone is not a strong separator for all species, which helps in better feature prioritization during model training.\n",
        "There is no negative impact, but relying solely on this feature could reduce accuracy, emphasizing the need to combine it with stronger predictors like petal measurements.Answer Here"
      ],
      "metadata": {
        "id": "DW4_bGpfphqN"
      }
    },
    {
      "cell_type": "markdown",
      "source": [
        "#### Chart - 7"
      ],
      "metadata": {
        "id": "PIIx-8_IphqN"
      }
    },
    {
      "cell_type": "code",
      "source": [
        "import seaborn as sns\n",
        "import matplotlib.pyplot as plt\n",
        "\n",
        "# Swarm plot for Petal Length by Species\n",
        "plt.figure(figsize=(8, 5))\n",
        "sns.swarmplot(data=df, x='Species', y='PetalLengthCm', palette='coolwarm')\n",
        "plt.title('Swarm Plot of Petal Length by Species')\n",
        "plt.xlabel('Species')\n",
        "plt.ylabel('Petal Length (cm)')\n",
        "plt.show()\n"
      ],
      "metadata": {
        "id": "lqAIGUfyphqO"
      },
      "execution_count": null,
      "outputs": []
    },
    {
      "cell_type": "markdown",
      "source": [
        "##### 1. Why did you pick the specific chart?"
      ],
      "metadata": {
        "id": "t27r6nlMphqO"
      }
    },
    {
      "cell_type": "markdown",
      "source": [
        "I selected the swarm plot because it provides a clear, non-overlapping view of individual data points along the categorical axis. It helps in understanding both the distribution and density of values, making it ideal to explore how petal length varies across Iris species.Answer Here."
      ],
      "metadata": {
        "id": "iv6ro40sphqO"
      }
    },
    {
      "cell_type": "markdown",
      "source": [
        "##### 2. What is/are the insight(s) found from the chart?"
      ],
      "metadata": {
        "id": "r2jJGEOYphqO"
      }
    },
    {
      "cell_type": "markdown",
      "source": [
        "Iris-setosa shows a tight cluster of very short petal lengths (below 2 cm).\n",
        "\n",
        "Iris-versicolor has moderate petal lengths (around 3–5 cm), with some overlap with virginica.\n",
        "\n",
        "Iris-virginica has significantly longer petals, ranging from 4.5 to 7 cm.\n",
        "\n",
        "Petal length shows clear separation among species, confirming it as a powerful feature for classification.\n",
        "\n",
        "Answer Here"
      ],
      "metadata": {
        "id": "Po6ZPi4hphqO"
      }
    },
    {
      "cell_type": "markdown",
      "source": [
        "##### 3. Will the gained insights help creating a positive business impact?\n",
        "Are there any insights that lead to negative growth? Justify with specific reason."
      ],
      "metadata": {
        "id": "b0JNsNcRphqO"
      }
    },
    {
      "cell_type": "markdown",
      "source": [
        "Yes, this visualization confirms that petal length is a highly discriminative feature. It supports better model performance, improving species recognition systems in agriculture or automated botanical analysis — leading to positive business outcomes.\n",
        "\n",
        "There are no signs of negative growth, as the feature clearly contributes to classification accuracy and shows minimal class overlap.Answer Here"
      ],
      "metadata": {
        "id": "xvSq8iUTphqO"
      }
    },
    {
      "cell_type": "markdown",
      "source": [
        "#### Chart - 8"
      ],
      "metadata": {
        "id": "BZR9WyysphqO"
      }
    },
    {
      "cell_type": "code",
      "source": [
        "# Chart - 8 visualization codeimport seaborn as sns\n",
        "import matplotlib.pyplot as plt\n",
        "\n",
        "# Scatter plot for Petal Length vs Petal Width\n",
        "plt.figure(figsize=(8, 6))\n",
        "sns.scatterplot(data=df, x='PetalLengthCm', y='PetalWidthCm', hue='Species', palette='Set1', s=100)\n",
        "plt.title('Scatter Plot of Petal Length vs Petal Width')\n",
        "plt.xlabel('Petal Length (cm)')\n",
        "plt.ylabel('Petal Width (cm)')\n",
        "plt.legend(title='Species')\n",
        "plt.grid(True)\n",
        "plt.show()\n"
      ],
      "metadata": {
        "id": "TdPTWpAVphqO"
      },
      "execution_count": null,
      "outputs": []
    },
    {
      "cell_type": "markdown",
      "source": [
        "##### 1. Why did you pick the specific chart?"
      ],
      "metadata": {
        "id": "jj7wYXLtphqO"
      }
    },
    {
      "cell_type": "markdown",
      "source": [
        "\n",
        "I chose the **scatter plot** because it effectively shows the **relationship between two numerical variables** — petal length and petal width — across different species. It’s ideal for identifying **natural clusters**, **class separation**, and **correlation**, which are crucial for classification problems like this. This chart visually confirms how well these features differentiate the species.\n",
        "Answer Here."
      ],
      "metadata": {
        "id": "Ob8u6rCTphqO"
      }
    },
    {
      "cell_type": "markdown",
      "source": [
        "##### 2. What is/are the insight(s) found from the chart?"
      ],
      "metadata": {
        "id": "eZrbJ2SmphqO"
      }
    },
    {
      "cell_type": "markdown",
      "source": [
        "The scatter plot shows clear and strong separation among the three Iris species based on petal length and width.\n",
        "\n",
        "Iris-setosa is distinctly clustered with small petal dimensions.\n",
        "\n",
        "Iris-versicolor and Iris-virginica show some overlap but still form identifiable clusters.\n",
        "\n",
        "There is a positive correlation between petal length and petal width for all species, especially for virginica.Answer Here"
      ],
      "metadata": {
        "id": "mZtgC_hjphqO"
      }
    },
    {
      "cell_type": "markdown",
      "source": [
        "##### 3. Will the gained insights help creating a positive business impact?\n",
        "Are there any insights that lead to negative growth? Justify with specific reason."
      ],
      "metadata": {
        "id": "rFu4xreNphqO"
      }
    },
    {
      "cell_type": "markdown",
      "source": [
        "\n",
        "Yes, the insights from this chart significantly help in building **accurate and interpretable classification models**, which improves **decision-making and automation** in fields like **agriculture, botanical research, and AI-powered plant identification apps**.\n",
        "There are **no insights leading to negative growth**, but the slight overlap between *versicolor* and *virginica* may introduce minor classification confusion. However, when combined with other features, the overall impact remains highly positive.\n",
        "Answer Here"
      ],
      "metadata": {
        "id": "ey_0qi68phqO"
      }
    },
    {
      "cell_type": "markdown",
      "source": [
        "#### Chart - 9"
      ],
      "metadata": {
        "id": "YJ55k-q6phqO"
      }
    },
    {
      "cell_type": "code",
      "source": [
        "# Chart - 9 visualization codeimport seaborn as sns\n",
        "import matplotlib.pyplot as plt\n",
        "\n",
        "# KDE plot for Sepal Width by Species\n",
        "plt.figure(figsize=(8, 5))\n",
        "sns.kdeplot(data=df, x='SepalWidthCm', hue='Species', fill=True, palette='pastel')\n",
        "plt.title('KDE Plot of Sepal Width by Species')\n",
        "plt.xlabel('Sepal Width (cm)')\n",
        "plt.ylabel('Density')\n",
        "plt.grid(True)\n",
        "plt.show()\n"
      ],
      "metadata": {
        "id": "B2aS4O1ophqO"
      },
      "execution_count": null,
      "outputs": []
    },
    {
      "cell_type": "markdown",
      "source": [
        "##### 1. Why did you pick the specific chart?"
      ],
      "metadata": {
        "id": "gCFgpxoyphqP"
      }
    },
    {
      "cell_type": "markdown",
      "source": [
        "I chose the KDE plot because it provides a smooth and continuous view of the distribution of a numerical feature, in this case Sepal Width, across different species. It helps identify where values are concentrated, how they differ by class, and whether the feature is suitable for classification.\n",
        "\n",
        "Answer Here."
      ],
      "metadata": {
        "id": "TVxDimi2phqP"
      }
    },
    {
      "cell_type": "markdown",
      "source": [
        "##### 2. What is/are the insight(s) found from the chart?"
      ],
      "metadata": {
        "id": "OVtJsKN_phqQ"
      }
    },
    {
      "cell_type": "markdown",
      "source": [
        "Iris-setosa has a relatively wider sepal width, centered around 3.4 cm.\n",
        "\n",
        "Iris-versicolor and Iris-virginica have overlapping and lower sepal width distributions, mostly between 2.5 and 3.2 cm.\n",
        "\n",
        "The distribution shows that sepal width is moderately useful for separating setosa from others, but less effective for distinguishing versicolor and virginica."
      ],
      "metadata": {
        "id": "ngGi97qjphqQ"
      }
    },
    {
      "cell_type": "markdown",
      "source": [
        "##### 3. Will the gained insights help creating a positive business impact?\n",
        "Are there any insights that lead to negative growth? Justify with specific reason."
      ],
      "metadata": {
        "id": "lssrdh5qphqQ"
      }
    },
    {
      "cell_type": "markdown",
      "source": [
        "Are there any insights that lead to negative growth? Justify with specific reason.\n",
        "Answer:\n",
        "Yes, the insights are useful for feature evaluation and selection. Knowing that sepal width helps distinguish setosa supports more accurate modeling.\n",
        "There are no negative growth insights, but relying heavily on this feature alone would not perform well for separating versicolor and virginica, so it should be combined with stronger predictors like petal features.Answer Here"
      ],
      "metadata": {
        "id": "tBpY5ekJphqQ"
      }
    },
    {
      "cell_type": "markdown",
      "source": [
        "#### Chart - 10"
      ],
      "metadata": {
        "id": "U2RJ9gkRphqQ"
      }
    },
    {
      "cell_type": "code",
      "source": [
        "import seaborn as sns\n",
        "import matplotlib.pyplot as plt\n",
        "\n",
        "# List of numerical feature columns\n",
        "feature_cols = ['SepalLengthCm', 'SepalWidthCm', 'PetalLengthCm', 'PetalWidthCm']\n",
        "\n",
        "# Plot histogram for each feature using FacetGrid\n",
        "for col in feature_cols:\n",
        "    g = sns.FacetGrid(df, hue='Species', height=4, aspect=1.5, palette='Set2')\n",
        "    g.map(sns.histplot, col, kde=True, bins=15, alpha=0.6)\n",
        "    g.add_legend()\n",
        "    g.fig.suptitle(f'Distribution of {col} by Species', y=1.03)\n",
        "    plt.show()\n"
      ],
      "metadata": {
        "id": "GM7a4YP4phqQ"
      },
      "execution_count": null,
      "outputs": []
    },
    {
      "cell_type": "markdown",
      "source": [
        "##### 1. Why did you pick the specific chart?"
      ],
      "metadata": {
        "id": "1M8mcRywphqQ"
      }
    },
    {
      "cell_type": "markdown",
      "source": [
        "I chose the FacetGrid histogram because it allows us to visualize the distribution of each numerical feature across different species in separate but comparable panels. This makes it easy to spot differences in how features are distributed, helping to understand which features contribute most to class separability.\n",
        "\n",
        "Answer Here."
      ],
      "metadata": {
        "id": "8agQvks0phqQ"
      }
    },
    {
      "cell_type": "markdown",
      "source": [
        "##### 2. What is/are the insight(s) found from the chart?"
      ],
      "metadata": {
        "id": "tgIPom80phqQ"
      }
    },
    {
      "cell_type": "markdown",
      "source": [
        "Petal Length and Petal Width show distinct distributions across all three species, confirming they are strong predictors.\n",
        "\n",
        "Iris-setosa has tightly clustered values for all features, especially petal dimensions.\n",
        "\n",
        "Sepal Width has more overlap among species, making it less useful as a standalone feature.\n",
        "\n",
        "The distribution shape reveals some skewness and differences in spread that may affect model assumptions like normality.\n",
        "\n",
        "Answer Here"
      ],
      "metadata": {
        "id": "Qp13pnNzphqQ"
      }
    },
    {
      "cell_type": "markdown",
      "source": [
        "##### 3. Will the gained insights help creating a positive business impact?\n",
        "Are there any insights that lead to negative growth? Justify with specific reason."
      ],
      "metadata": {
        "id": "JMzcOPDDphqR"
      }
    },
    {
      "cell_type": "markdown",
      "source": [
        "Yes, these insights support informed feature selection, which helps build efficient and interpretable models for real-world applications like automated plant identification or smart agriculture tools.\n",
        "There are no signs of negative growth, but if weak features like Sepal Width are used without proper weighting, they could slightly reduce model performance. This can be addressed by techniques like feature scaling or dimensionality reduction.Answer Here"
      ],
      "metadata": {
        "id": "R4Ka1PC2phqR"
      }
    },
    {
      "cell_type": "markdown",
      "source": [
        "#### Chart - 11"
      ],
      "metadata": {
        "id": "x-EpHcCOp1ci"
      }
    },
    {
      "cell_type": "code",
      "source": [
        "import seaborn as sns\n",
        "import matplotlib.pyplot as plt\n",
        "\n",
        "# Boxen plot for Petal Width by Species\n",
        "plt.figure(figsize=(8, 5))\n",
        "sns.boxenplot(data=df, x='Species', y='PetalWidthCm', palette='pastel')\n",
        "plt.title('Boxen Plot of Petal Width by Species')\n",
        "plt.xlabel('Species')\n",
        "plt.ylabel('Petal Width (cm)')\n",
        "plt.grid(True)\n",
        "plt.show()\n"
      ],
      "metadata": {
        "id": "mAQTIvtqp1cj"
      },
      "execution_count": null,
      "outputs": []
    },
    {
      "cell_type": "markdown",
      "source": [
        "##### 1. Why did you pick the specific chart?"
      ],
      "metadata": {
        "id": "X_VqEhTip1ck"
      }
    },
    {
      "cell_type": "markdown",
      "source": [
        "I selected the boxen plot because it provides a more detailed visualization of the distribution across multiple quantiles, including tails and outliers. Compared to a box plot, it’s more informative for asymmetric or skewed distributions, which helps evaluate the variability of petal width for each Iris species.\n",
        "\n",
        "Answer Here."
      ],
      "metadata": {
        "id": "-vsMzt_np1ck"
      }
    },
    {
      "cell_type": "markdown",
      "source": [
        "##### 2. What is/are the insight(s) found from the chart?"
      ],
      "metadata": {
        "id": "8zGJKyg5p1ck"
      }
    },
    {
      "cell_type": "markdown",
      "source": [
        "Iris-setosa has very low and consistent petal width values, with no overlap with other species.\n",
        "\n",
        "Iris-versicolor and Iris-virginica have wider and higher petal widths, but virginica has the highest median and greater spread, showing more variability.\n",
        "\n",
        "There is clear class separation in petal width, making it a strong feature for classification models.Answer Here"
      ],
      "metadata": {
        "id": "ZYdMsrqVp1ck"
      }
    },
    {
      "cell_type": "markdown",
      "source": [
        "##### 3. Will the gained insights help creating a positive business impact?\n",
        "Are there any insights that lead to negative growth? Justify with specific reason."
      ],
      "metadata": {
        "id": "PVzmfK_Ep1ck"
      }
    },
    {
      "cell_type": "markdown",
      "source": [
        "Yes, the insights confirm that petal width is highly discriminative and should be prioritized in the model, which helps build accurate plant recognition systems in agriculture, education, or mobile apps.\n",
        "No negative growth is indicated, but if the model overfits on high-variance features like petal width in virginica, it could impact generalization — this can be handled with proper scaling or regularization.\n",
        "\n",
        "Answer Here"
      ],
      "metadata": {
        "id": "druuKYZpp1ck"
      }
    },
    {
      "cell_type": "markdown",
      "source": [
        "#### Chart - 12"
      ],
      "metadata": {
        "id": "n3dbpmDWp1ck"
      }
    },
    {
      "cell_type": "code",
      "source": [
        "import seaborn as sns\n",
        "import matplotlib.pyplot as plt\n",
        "\n",
        "# Drop non-numeric column(s) like 'Species'\n",
        "numeric_df = df.drop(columns=['Species'])\n",
        "\n",
        "# Compute the correlation matrix\n",
        "correlation_matrix = numeric_df.corr()\n",
        "\n",
        "# Plot the heatmap\n",
        "plt.figure(figsize=(8, 6))\n",
        "sns.heatmap(correlation_matrix, annot=True, cmap='coolwarm', fmt=\".2f\", linewidths=0.5)\n",
        "plt.title('Correlation Heatmap of Iris Features')\n",
        "plt.show()\n"
      ],
      "metadata": {
        "id": "bwevp1tKp1ck"
      },
      "execution_count": null,
      "outputs": []
    },
    {
      "cell_type": "markdown",
      "source": [
        "##### 1. Why did you pick the specific chart?"
      ],
      "metadata": {
        "id": "ylSl6qgtp1ck"
      }
    },
    {
      "cell_type": "markdown",
      "source": [
        "I chose the correlation heatmap because it clearly shows how each numerical feature relates to the others through a color-coded matrix. It helps detect strongly correlated variables, which is useful for feature selection, reducing multicollinearity, and understanding the structure of the dataset.\n",
        "\n"
      ],
      "metadata": {
        "id": "m2xqNkiQp1ck"
      }
    },
    {
      "cell_type": "markdown",
      "source": [
        "##### 2. What is/are the insight(s) found from the chart?"
      ],
      "metadata": {
        "id": "ZWILFDl5p1ck"
      }
    },
    {
      "cell_type": "markdown",
      "source": [
        "Petal Length and Petal Width are very strongly correlated (~0.96), suggesting they hold similar information.\n",
        "\n",
        "Sepal Length shows moderate correlation with petal features (~0.87 with Petal Length).\n",
        "\n",
        "Sepal Width has weak or slightly negative correlation with other features, indicating it contributes independent informationAnswer Here"
      ],
      "metadata": {
        "id": "x-lUsV2mp1ck"
      }
    },
    {
      "cell_type": "markdown",
      "source": [
        "##### 3. Will the gained insights help creating a positive business impact?\n",
        "Are there any insights that lead to negative growth? Justify with specific reason."
      ],
      "metadata": {
        "id": "M7G43BXep1ck"
      }
    },
    {
      "cell_type": "markdown",
      "source": [
        "Yes, the heatmap helps us choose the most informative features, which improves model accuracy, reduces complexity, and training time—beneficial in real-world deployments like AI-based plant classification apps.\n",
        "There are no negative growth insights, but if multicollinear features (like Petal Width and Length) are used together without adjustment, some models may overfit—this can be avoided with dimensionality reduction or regularization.\n",
        "\n",
        "Answer Here"
      ],
      "metadata": {
        "id": "5wwDJXsLp1cl"
      }
    },
    {
      "cell_type": "markdown",
      "source": [
        "#### Chart - 13"
      ],
      "metadata": {
        "id": "Ag9LCva-p1cl"
      }
    },
    {
      "cell_type": "code",
      "source": [
        "import matplotlib.pyplot as plt\n",
        "from mpl_toolkits.mplot3d import Axes3D\n",
        "import pandas as pd\n",
        "\n",
        "# Load dataset (if not already loaded)\n",
        "# You can skip this if df is already defined\n",
        "# df = pd.read_csv(\"https://raw.githubusercontent.com/mwaskom/seaborn-data/master/iris.csv\")\n",
        "\n",
        "# Use original string labels (no encoding needed)\n",
        "species_names = {\n",
        "    'Iris-setosa': 'Iris-setosa',\n",
        "    'Iris-versicolor': 'Iris-versicolor',\n",
        "    'Iris-virginica': 'Iris-virginica'\n",
        "}\n",
        "\n",
        "colors = {\n",
        "    'Iris-setosa': 'r',\n",
        "    'Iris-versicolor': 'g',\n",
        "    'Iris-virginica': 'b'\n",
        "}\n",
        "\n",
        "# Create 3D scatter plot\n",
        "fig = plt.figure(figsize=(10, 6))\n",
        "ax = fig.add_subplot(111, projection='3d')\n",
        "\n",
        "# Plot each species\n",
        "for species_value in df['Species'].unique():\n",
        "    subset = df[df['Species'] == species_value]\n",
        "    ax.scatter(\n",
        "        subset['SepalLengthCm'],\n",
        "        subset['PetalLengthCm'],\n",
        "        subset['PetalWidthCm'],\n",
        "        c=colors[species_value],\n",
        "        label=species_names[species_value],\n",
        "        s=50,\n",
        "        edgecolors='k'\n",
        "    )\n",
        "\n",
        "# Set axis labels and title\n",
        "ax.set_xlabel('Sepal Length (cm)')\n",
        "ax.set_ylabel('Petal Length (cm)')\n",
        "ax.set_zlabel('Petal Width (cm)')\n",
        "ax.set_title('3D Scatter Plot of Iris Features by Species')\n",
        "\n",
        "# Add legend\n",
        "ax.legend(title='Species')\n",
        "plt.show()\n"
      ],
      "metadata": {
        "id": "EUfxeq9-p1cl"
      },
      "execution_count": null,
      "outputs": []
    },
    {
      "cell_type": "markdown",
      "source": [
        "##### 1. Why did you pick the specific chart?"
      ],
      "metadata": {
        "id": "E6MkPsBcp1cl"
      }
    },
    {
      "cell_type": "markdown",
      "source": [
        "I chose the 3D scatter plot to visualize the relationship among three important features simultaneously. This chart provides a clearer view of how well the three Iris species are separated in multi-dimensional space, which helps in understanding class clusters and model discriminative power.\n",
        "\n",
        "Answer Here."
      ],
      "metadata": {
        "id": "V22bRsFWp1cl"
      }
    },
    {
      "cell_type": "markdown",
      "source": [
        "##### 2. What is/are the insight(s) found from the chart?"
      ],
      "metadata": {
        "id": "2cELzS2fp1cl"
      }
    },
    {
      "cell_type": "markdown",
      "source": [
        "Iris-setosa forms a clearly isolated cluster, indicating strong separability.\n",
        "\n",
        "Iris-versicolor and Iris-virginica have partial overlap but still show distinct groupings in 3D.\n",
        "\n",
        "The combination of Sepal Length, Petal Length, and Petal Width offers good potential for classification.Answer Here"
      ],
      "metadata": {
        "id": "ozQPc2_Ip1cl"
      }
    },
    {
      "cell_type": "markdown",
      "source": [
        "##### 3. Will the gained insights help creating a positive business impact?\n",
        "Are there any insights that lead to negative growth? Justify with specific reason."
      ],
      "metadata": {
        "id": "3MPXvC8up1cl"
      }
    },
    {
      "cell_type": "markdown",
      "source": [
        "Yes, these insights help in building more accurate machine learning models by identifying the most informative feature combinations. This can support applications like automated plant species classification in agriculture or mobile apps.\n",
        "No insights indicate negative growth. However, some overlap between versicolor and virginica could result in minor misclassifications, which can be addressed using more advanced classifiers or adding new distinguishing features."
      ],
      "metadata": {
        "id": "GL8l1tdLp1cl"
      }
    },
    {
      "cell_type": "markdown",
      "source": [
        "#### Chart - 14 - Correlation Heatmap"
      ],
      "metadata": {
        "id": "NC_X3p0fY2L0"
      }
    },
    {
      "cell_type": "code",
      "source": [
        "import seaborn as sns\n",
        "import matplotlib.pyplot as plt\n",
        "import pandas as pd\n",
        "\n",
        "# Load Dataset\n",
        "df = pd.read_csv(\"/content/Iris.csv\")\n",
        "\n",
        "# Calculate correlation matrix (excluding the 'Species' column)\n",
        "correlation_matrix = df.drop('Species', axis=1).corr().round(2)\n",
        "\n",
        "# Plot heatmap\n",
        "plt.figure(figsize=(8, 6))\n",
        "sns.heatmap(\n",
        "    correlation_matrix,\n",
        "    annot=True,\n",
        "    cmap='Spectral',   # Changed colormap for visual variety\n",
        "    linewidths=0.5,\n",
        "    linecolor='gray',\n",
        "    square=True,\n",
        "    cbar_kws={\"shrink\": 0.75}\n",
        ")\n",
        "plt.title('Chart 14: Correlation Heatmap of Iris Dataset', fontsize=14)\n",
        "plt.xticks(rotation=45)\n",
        "plt.yticks(rotation=0)\n",
        "plt.tight_layout()\n",
        "plt.show()\n"
      ],
      "metadata": {
        "id": "xyC9zolEZNRQ"
      },
      "execution_count": null,
      "outputs": []
    },
    {
      "cell_type": "markdown",
      "source": [
        "##### 1. Why did you pick the specific chart?"
      ],
      "metadata": {
        "id": "UV0SzAkaZNRQ"
      }
    },
    {
      "cell_type": "markdown",
      "source": [
        "I selected the correlation heatmap because it visually represents the linear relationships between all numeric features in the dataset using a color-coded matrix. It makes it easy to identify strong, weak, and negative correlations, helping in decisions related to feature selection, multicollinearity, and dimensionality reduction.Answer Here."
      ],
      "metadata": {
        "id": "DVPuT8LYZNRQ"
      }
    },
    {
      "cell_type": "markdown",
      "source": [
        "##### 2. What is/are the insight(s) found from the chart?"
      ],
      "metadata": {
        "id": "YPEH6qLeZNRQ"
      }
    },
    {
      "cell_type": "markdown",
      "source": [
        "Petal Length and Petal Width show a very strong positive correlation (~0.96), indicating they carry similar information.\n",
        "\n",
        "Sepal Length has a moderate positive correlation with both petal dimensions.\n",
        "\n",
        "Sepal Width is weakly or negatively correlated with other features, meaning it may offer unique variance not captured by other variables.\n",
        "\n",
        "This helps determine which features are redundant or most informative for building classification models.Answer Here"
      ],
      "metadata": {
        "id": "bfSqtnDqZNRR"
      }
    },
    {
      "cell_type": "markdown",
      "source": [
        "#### Chart - 15 - Pair Plot"
      ],
      "metadata": {
        "id": "q29F0dvdveiT"
      }
    },
    {
      "cell_type": "code",
      "source": [
        "import seaborn as sns\n",
        "import matplotlib.pyplot as plt\n",
        "\n",
        "# Create pair plot\n",
        "sns.pairplot(df, hue='Species', palette='Set2', diag_kind='kde', height=2.5)\n",
        "\n",
        "# Set plot title\n",
        "plt.suptitle(\"Pair Plot of Iris Features by Species\", y=1.02, fontsize=14)\n",
        "plt.show()\n"
      ],
      "metadata": {
        "id": "o58-TEIhveiU"
      },
      "execution_count": null,
      "outputs": []
    },
    {
      "cell_type": "markdown",
      "source": [
        "##### 1. Why did you pick the specific chart?"
      ],
      "metadata": {
        "id": "EXh0U9oCveiU"
      }
    },
    {
      "cell_type": "markdown",
      "source": [
        "I chose the pair plot because it allows simultaneous visualization of all pairwise relationships between numerical features, with class-level color separation. It is especially useful for identifying feature correlations, clustering patterns, and class separation, which are essential when preparing data for classification models.\n",
        "\n"
      ],
      "metadata": {
        "id": "eMmPjTByveiU"
      }
    },
    {
      "cell_type": "markdown",
      "source": [
        "##### 2. What is/are the insight(s) found from the chart?"
      ],
      "metadata": {
        "id": "22aHeOlLveiV"
      }
    },
    {
      "cell_type": "markdown",
      "source": [
        "Iris-setosa is clearly separated from the other two classes in almost every feature pair, particularly in petal features.\n",
        "\n",
        "Iris-versicolor and Iris-virginica show some overlap but still form distinguishable clusters.\n",
        "\n",
        "Petal Length vs. Petal Width shows the clearest separation among all species.\n",
        "\n",
        "Some features like Sepal Width offer less separability and show overlap across classes.\n",
        "\n",
        "Answer Here"
      ],
      "metadata": {
        "id": "uPQ8RGwHveiV"
      }
    },
    {
      "cell_type": "markdown",
      "source": [
        "## ***5. Hypothesis Testing***"
      ],
      "metadata": {
        "id": "g-ATYxFrGrvw"
      }
    },
    {
      "cell_type": "markdown",
      "source": [
        "### Based on your chart experiments, define three hypothetical statements from the dataset. In the next three questions, perform hypothesis testing to obtain final conclusion about the statements through your code and statistical testing."
      ],
      "metadata": {
        "id": "Yfr_Vlr8HBkt"
      }
    },
    {
      "cell_type": "markdown",
      "source": [
        "🔬 Hypothesis 1:\n",
        "Statement:\n",
        "There is a significant difference in Petal Length between Iris-setosa and Iris-versicolor.\n",
        "\n",
        "Null Hypothesis (H₀): There is no significant difference in mean Petal Length between Iris-setosa and Iris-versicolor.\n",
        "\n",
        "Alternative Hypothesis (H₁): There is a significant difference in mean Petal Length between Iris-setosa and Iris-versicolor.\n",
        "\n",
        "🔧 Statistical Test: Independent t-test\n",
        "📈 Feature: PetalLengthCm\n",
        "🔍 Groups: Iris-setosa vs. Iris-versicolor\n",
        "\n",
        "🔬 Hypothesis 2:\n",
        "Statement:\n",
        "Sepal Width and Petal Width are not linearly correlated.\n",
        "\n",
        "Null Hypothesis (H₀): There is no linear correlation between Sepal Width and Petal Width (correlation coefficient = 0).\n",
        "\n",
        "Alternative Hypothesis (H₁): There is a linear correlation between Sepal Width and Petal Width (correlation coefficient ≠ 0).\n",
        "\n",
        "🔧 Statistical Test: Pearson Correlation Test\n",
        "📈 Features: SepalWidthCm & PetalWidthCm\n",
        "\n",
        "🔬 Hypothesis 3:\n",
        "Statement:\n",
        "The mean Sepal Length of the three Iris species are significantly different.\n",
        "\n",
        "Null Hypothesis (H₀): The mean Sepal Length is equal across all three species.\n",
        "\n",
        "Alternative Hypothesis (H₁): At least one species has a significantly different mean Sepal Length.\n",
        "\n",
        "🔧 Statistical Test: One-Way ANOVA\n",
        "📈 Feature: SepalLengthCm\n",
        "🔍 Groups: Iris-setosa, Iris-versicolor, Iris-virginicaAnswer Here."
      ],
      "metadata": {
        "id": "-7MS06SUHkB-"
      }
    },
    {
      "cell_type": "markdown",
      "source": [
        "### Hypothetical Statement - 1"
      ],
      "metadata": {
        "id": "8yEUt7NnHlrM"
      }
    },
    {
      "cell_type": "markdown",
      "source": [
        "#### 1. State Your research hypothesis as a null hypothesis and alternate hypothesis."
      ],
      "metadata": {
        "id": "tEA2Xm5dHt1r"
      }
    },
    {
      "cell_type": "markdown",
      "source": [
        "Null Hypothesis (H₀):\n",
        "There is no significant difference in the mean Petal Length between Iris-setosa and Iris-versicolor.\n",
        "\n",
        "𝐻0:𝜇setosa=𝜇versicolorH 0:μ setosa​=μ versicolor\n",
        "\n",
        "Alternate Hypothesis (H₁):\n",
        "There is a significant difference in the mean Petal Length between Iris-setosa and Iris-versicolor.\n",
        "\n",
        "𝐻1:𝜇setosa≠𝜇versicolorH 1:μ setosa​=μversicolor\n",
        "​\n",
        "\n",
        "\n",
        "​\n"
      ],
      "metadata": {
        "id": "HI9ZP0laH0D-"
      }
    },
    {
      "cell_type": "markdown",
      "source": [
        "#### 2. Perform an appropriate statistical test."
      ],
      "metadata": {
        "id": "I79__PHVH19G"
      }
    },
    {
      "cell_type": "code",
      "source": [
        "from scipy.stats import ttest_ind\n",
        "\n",
        "# Filter petal lengths for the two species\n",
        "setosa = df[df['Species'] == 'Iris-setosa']['PetalLengthCm']\n",
        "versicolor = df[df['Species'] == 'Iris-versicolor']['PetalLengthCm']\n",
        "\n",
        "# Perform independent t-test\n",
        "t_stat, p_value = ttest_ind(setosa, versicolor)\n",
        "\n",
        "# Output the result\n",
        "print(\"T-statistic:\", t_stat)\n",
        "print(\"P-value:\", p_value)\n"
      ],
      "metadata": {
        "id": "oZrfquKtyian"
      },
      "execution_count": null,
      "outputs": []
    },
    {
      "cell_type": "markdown",
      "source": [
        "##### Which statistical test have you done to obtain P-Value?"
      ],
      "metadata": {
        "id": "Ou-I18pAyIpj"
      }
    },
    {
      "cell_type": "markdown",
      "source": [
        "I used the Independent Two-Sample t-test (also known as an unpaired t-test) to compare the means of Petal Length between Iris-setosa and Iris-versicolor."
      ],
      "metadata": {
        "id": "s2U0kk00ygSB"
      }
    },
    {
      "cell_type": "markdown",
      "source": [
        "##### Why did you choose the specific statistical test?"
      ],
      "metadata": {
        "id": "fF3858GYyt-u"
      }
    },
    {
      "cell_type": "markdown",
      "source": [
        "The Independent t-test is appropriate because:\n",
        "\n",
        "We are comparing the means of a continuous variable (Petal Length) across two independent groups (species).\n",
        "\n",
        "The samples are normally distributed (or close to normal due to central limit theorem).\n",
        "\n",
        "It tests whether the difference in means between the two groups is statistically significant.\n",
        "\n",
        "This makes it the best choice for evaluating if Petal Length significantly varies between the two Iris species.\n"
      ],
      "metadata": {
        "id": "HO4K0gP5y3B4"
      }
    },
    {
      "cell_type": "markdown",
      "source": [
        "### Hypothetical Statement - 2"
      ],
      "metadata": {
        "id": "4_0_7-oCpUZd"
      }
    },
    {
      "cell_type": "markdown",
      "source": [
        "#### 1. State Your research hypothesis as a null hypothesis and alternate hypothesis."
      ],
      "metadata": {
        "id": "hwyV_J3ipUZe"
      }
    },
    {
      "cell_type": "markdown",
      "source": [
        "Null Hypothesis (H₀):\n",
        "There is no significant linear correlation between Sepal Width and Petal Width.\n",
        "\n",
        "𝐻0:𝜌0H 0:ρ=0\n",
        "Alternate Hypothesis (H₁):\n",
        "There is a significant linear correlation between Sepal Width and Petal Width.\n",
        "𝐻1:𝜌≠0H 1:ρ=0Answer Here."
      ],
      "metadata": {
        "id": "FnpLGJ-4pUZe"
      }
    },
    {
      "cell_type": "markdown",
      "source": [
        "#### 2. Perform an appropriate statistical test."
      ],
      "metadata": {
        "id": "3yB-zSqbpUZe"
      }
    },
    {
      "cell_type": "code",
      "source": [
        "import pandas as pd\n",
        "from scipy.stats import pearsonr  # ✅ Import this line\n",
        "import matplotlib.pyplot as plt\n",
        "import seaborn as sns\n",
        "\n",
        "# Example: Load your dataset\n",
        "# df = pd.read_csv(\"your_file.csv\")\n",
        "\n",
        "# Extract the two continuous variables\n",
        "sepal_width = df['SepalWidthCm']\n",
        "petal_width = df['PetalWidthCm']\n",
        "\n",
        "# Perform Pearson correlation test\n",
        "corr_coef, p_value = pearsonr(sepal_width, petal_width)\n",
        "\n",
        "# Print results\n",
        "print(\"Pearson Correlation Coefficient:\", corr_coef)\n",
        "print(\"P-value:\", p_value)\n",
        "\n"
      ],
      "metadata": {
        "id": "sWxdNTXNpUZe"
      },
      "execution_count": null,
      "outputs": []
    },
    {
      "cell_type": "markdown",
      "source": [
        "##### Which statistical test have you done to obtain P-Value?"
      ],
      "metadata": {
        "id": "dEUvejAfpUZe"
      }
    },
    {
      "cell_type": "markdown",
      "source": [
        "I performed the Pearson Correlation Test to calculate the correlation coefficient and the p-value between Sepal Width and Petal Width.Answer Here."
      ],
      "metadata": {
        "id": "oLDrPz7HpUZf"
      }
    },
    {
      "cell_type": "markdown",
      "source": [
        "##### Why did you choose the specific statistical test?"
      ],
      "metadata": {
        "id": "Fd15vwWVpUZf"
      }
    },
    {
      "cell_type": "markdown",
      "source": [
        "I chose the Pearson Correlation Test because both Sepal Width and Petal Width are continuous numerical variables, and we are interested in measuring the strength and direction of their linear relationship.\n",
        "This test is appropriate when the data is normally distributed and we want to check if the correlation is statistically significant.\n",
        "\n",
        "Answer Here."
      ],
      "metadata": {
        "id": "4xOGYyiBpUZf"
      }
    },
    {
      "cell_type": "markdown",
      "source": [
        "### Hypothetical Statement - 3"
      ],
      "metadata": {
        "id": "bn_IUdTipZyH"
      }
    },
    {
      "cell_type": "markdown",
      "source": [
        "#### 1. State Your research hypothesis as a null hypothesis and alternate hypothesis."
      ],
      "metadata": {
        "id": "49K5P_iCpZyH"
      }
    },
    {
      "cell_type": "markdown",
      "source": [
        "Null Hypothesis (H₀):\n",
        "The mean Sepal Length is equal across all three Iris species.\n",
        "\n",
        "𝐻0:𝜇Setosa=𝜇Versicolor=𝜇VirginicaH 0:μ Setosa=μ Versicolor=μ Virginica\n",
        "​\n",
        " Alternate Hypothesis (H₁):\n",
        "At least one species has a significantly different mean Sepal Length.\n",
        "𝐻1:At least one 𝜇is different H 1:At least one μ is differentAnswer Here."
      ],
      "metadata": {
        "id": "7gWI5rT9pZyH"
      }
    },
    {
      "cell_type": "markdown",
      "source": [
        "#### 2. Perform an appropriate statistical test."
      ],
      "metadata": {
        "id": "Nff-vKELpZyI"
      }
    },
    {
      "cell_type": "code",
      "source": [
        "# Perform Statistical Test to obtain P-Value\n",
        "from scipy.stats import f_oneway\n",
        "\n",
        "# Group Sepal Lengths by species\n",
        "setosa = df[df['Species'] == 'Iris-setosa']['SepalLengthCm']\n",
        "versicolor = df[df['Species'] == 'Iris-versicolor']['SepalLengthCm']\n",
        "virginica = df[df['Species'] == 'Iris-virginica']['SepalLengthCm']\n",
        "\n",
        "# Perform One-Way ANOVA\n",
        "f_stat, p_value = f_oneway(setosa, versicolor, virginica)\n",
        "\n",
        "# Display results\n",
        "print(\"F-statistic:\", f_stat)\n",
        "print(\"P-value:\", p_value)"
      ],
      "metadata": {
        "id": "s6AnJQjtpZyI"
      },
      "execution_count": null,
      "outputs": []
    },
    {
      "cell_type": "markdown",
      "source": [
        "##### Which statistical test have you done to obtain P-Value?"
      ],
      "metadata": {
        "id": "kLW572S8pZyI"
      }
    },
    {
      "cell_type": "markdown",
      "source": [
        "I performed a One-Way ANOVA (Analysis of Variance) test to compare the mean Sepal Length across the three Iris species: Iris-setosa, Iris-versicolor, and Iris-virginica."
      ],
      "metadata": {
        "id": "ytWJ8v15pZyI"
      }
    },
    {
      "cell_type": "markdown",
      "source": [
        "##### Why did you choose the specific statistical test?"
      ],
      "metadata": {
        "id": "dWbDXHzopZyI"
      }
    },
    {
      "cell_type": "markdown",
      "source": [
        "The One-Way ANOVA is the appropriate statistical test when:\n",
        "\n",
        "We are comparing the means of a continuous variable (Sepal Length)\n",
        "\n",
        "Across three or more independent groups (the Iris species)\n",
        "\n",
        "And we want to determine if at least one group mean is significantly different\n",
        "\n",
        "Answer Here."
      ],
      "metadata": {
        "id": "M99G98V6pZyI"
      }
    },
    {
      "cell_type": "markdown",
      "source": [
        "## ***6. Feature Engineering & Data Pre-processing***"
      ],
      "metadata": {
        "id": "yLjJCtPM0KBk"
      }
    },
    {
      "cell_type": "markdown",
      "source": [
        "### 1. Handling Missing Values"
      ],
      "metadata": {
        "id": "xiyOF9F70UgQ"
      }
    },
    {
      "cell_type": "code",
      "source": [
        "# Handling Missing Values & Missing Value Imputation# Check for nulls\n",
        "print(df.isnull().sum())\n"
      ],
      "metadata": {
        "id": "iRsAHk1K0fpS"
      },
      "execution_count": null,
      "outputs": []
    },
    {
      "cell_type": "markdown",
      "source": [
        "#### What all missing value imputation techniques have you used and why did you use those techniques?"
      ],
      "metadata": {
        "id": "7wuGOrhz0itI"
      }
    },
    {
      "cell_type": "markdown",
      "source": [
        "In this project, I first checked the dataset for missing values using df.isnull().sum(). Since the Iris dataset is well-maintained and did not contain any missing values, no imputation was necessary.\n",
        "\n",
        "However, if missing values had been present, I would have used:\n",
        "\n",
        "Mean imputation for numerical columns (like SepalLengthCm, PetalWidthCm) — ideal for normally distributed data.\n",
        "\n",
        "Median imputation for skewed numerical features.\n",
        "\n",
        "Mode imputation for categorical columns like Species.\n",
        "\n",
        "These methods are chosen because they are simple, effective, and preserve the overall distribution of the data without significantly distorting feature relationships.Answer Here."
      ],
      "metadata": {
        "id": "1ixusLtI0pqI"
      }
    },
    {
      "cell_type": "markdown",
      "source": [
        "### 2. Handling Outliers"
      ],
      "metadata": {
        "id": "id1riN9m0vUs"
      }
    },
    {
      "cell_type": "code",
      "source": [
        "import seaborn as sns\n",
        "import matplotlib.pyplot as plt\n",
        "\n",
        "# Plot boxplots for each numeric feature\n",
        "numeric_cols = ['SepalLengthCm', 'SepalWidthCm', 'PetalLengthCm', 'PetalWidthCm']\n",
        "plt.figure(figsize=(12, 6))\n",
        "for i, col in enumerate(numeric_cols):\n",
        "    plt.subplot(1, 4, i + 1)\n",
        "    sns.boxplot(y=df[col])\n",
        "    plt.title(col)\n",
        "plt.tight_layout()\n",
        "plt.show()\n"
      ],
      "metadata": {
        "id": "M6w2CzZf04JK"
      },
      "execution_count": null,
      "outputs": []
    },
    {
      "cell_type": "markdown",
      "source": [
        "##### What all outlier treatment techniques have you used and why did you use those techniques?"
      ],
      "metadata": {
        "id": "578E2V7j08f6"
      }
    },
    {
      "cell_type": "markdown",
      "source": [
        "To detect outliers in the dataset, I used boxplots and the IQR (Interquartile Range) method across all numerical features. Outliers were mainly observed in the SepalWidthCm feature.\n",
        "\n",
        "Since the Iris dataset is relatively clean and the detected outliers did not appear to be due to data entry errors, I decided to retain the outliers. This ensures that we preserve the natural variability of real-world biological data. Removing them might risk losing important patterns that could affect model learning.\n",
        "\n",
        "If the outliers had negatively impacted model performance, I would have considered:\n",
        "\n",
        "Capping extreme values at acceptable thresholds (based on IQR).\n",
        "\n",
        "Or applying transformation techniques (like log or square root).Answer Here."
      ],
      "metadata": {
        "id": "uGZz5OrT1HH-"
      }
    },
    {
      "cell_type": "markdown",
      "source": [
        "### 3. Categorical Encoding"
      ],
      "metadata": {
        "id": "89xtkJwZ18nB"
      }
    },
    {
      "cell_type": "code",
      "source": [
        "from sklearn.preprocessing import LabelEncoder\n",
        "\n",
        "# Initialize encoder\n",
        "le = LabelEncoder()\n",
        "\n",
        "# Apply Label Encoding\n",
        "df['Species_encoded'] = le.fit_transform(df['Species'])\n",
        "\n",
        "# View encoded values\n",
        "print(df[['Species', 'Species_encoded']].drop_duplicates())\n"
      ],
      "metadata": {
        "id": "21JmIYMG2hEo"
      },
      "execution_count": null,
      "outputs": []
    },
    {
      "cell_type": "markdown",
      "source": [
        "#### What all categorical encoding techniques have you used & why did you use those techniques?"
      ],
      "metadata": {
        "id": "67NQN5KX2AMe"
      }
    },
    {
      "cell_type": "markdown",
      "source": [
        "In this project, I used Label Encoding on the Species column, which is the only categorical feature in the Iris dataset. Label Encoding assigns a unique numeric value to each category (e.g., Iris-setosa → 0, Iris-versicolor → 1, Iris-virginica → 2).\n",
        "\n",
        "This technique was chosen because:\n",
        "\n",
        "The Species column is non-ordinal with only three distinct categories, making it ideal for Label Encoding.\n",
        "\n",
        "It is memory efficient and keeps the dataset compact.\n",
        "\n",
        "Tree-based models and distance-based classifiers like Decision Trees, Random Forests, and KNN can handle label-encoded features without performance issues.\n",
        "\n",
        "If the dataset had more complex or high-cardinality categorical variables, or if I used linear models, I would have considered One-Hot Encoding to avoid implying any ordinal relationship.Answer Here."
      ],
      "metadata": {
        "id": "UDaue5h32n_G"
      }
    },
    {
      "cell_type": "markdown",
      "source": [
        "### 4. Textual Data Preprocessing\n",
        "(It's mandatory for textual dataset i.e., NLP, Sentiment Analysis, Text Clustering etc.)"
      ],
      "metadata": {
        "id": "Iwf50b-R2tYG"
      }
    },
    {
      "cell_type": "markdown",
      "source": [
        "#### 1. Expand Contraction"
      ],
      "metadata": {
        "id": "GMQiZwjn3iu7"
      }
    },
    {
      "cell_type": "code",
      "source": [
        "# Expand # Expand Contraction\n",
        "# Not applicable – the dataset does not contain textual data with contractions.\n"
      ],
      "metadata": {
        "id": "PTouz10C3oNN"
      },
      "execution_count": null,
      "outputs": []
    },
    {
      "cell_type": "markdown",
      "source": [
        "#### 2. Lower Casing"
      ],
      "metadata": {
        "id": "WVIkgGqN3qsr"
      }
    },
    {
      "cell_type": "code",
      "source": [
        "# Lower Casing# Lower Casing\n",
        "# Not applicable – the dataset does not have free text that requires case normalization.\n"
      ],
      "metadata": {
        "id": "88JnJ1jN3w7j"
      },
      "execution_count": null,
      "outputs": []
    },
    {
      "cell_type": "markdown",
      "source": [
        "#### 3. Removing Punctuations"
      ],
      "metadata": {
        "id": "XkPnILGE3zoT"
      }
    },
    {
      "cell_type": "code",
      "source": [
        "# Remove Punctuations\n",
        "# Not applicable – there are no text fields containing punctuation in this dataset.\n"
      ],
      "metadata": {
        "id": "vqbBqNaA33c0"
      },
      "execution_count": null,
      "outputs": []
    },
    {
      "cell_type": "markdown",
      "source": [
        "#### 4. Removing URLs & Removing words and digits contain digits."
      ],
      "metadata": {
        "id": "Hlsf0x5436Go"
      }
    },
    {
      "cell_type": "code",
      "source": [
        "# Remove URLs & Remove words and digits contain digits# Remove URLs & Remove words and digits contain digits\n",
        "# Not applicable – no URL strings or alphanumeric words exist in this structured dataset.\n"
      ],
      "metadata": {
        "id": "2sxKgKxu4Ip3"
      },
      "execution_count": null,
      "outputs": []
    },
    {
      "cell_type": "markdown",
      "source": [
        "#### 5. Removing Stopwords & Removing White spaces"
      ],
      "metadata": {
        "id": "mT9DMSJo4nBL"
      }
    },
    {
      "cell_type": "code",
      "source": [
        "# Remove Stopwords\n",
        "# Not applicable – since the dataset has no natural language content or unnecessary whitespace in text.\n"
      ],
      "metadata": {
        "id": "T2LSJh154s8W"
      },
      "execution_count": null,
      "outputs": []
    },
    {
      "cell_type": "code",
      "source": [
        "# Remove White spaces# Not applicable – since the dataset has no natural language content or unnecessary whitespace in text.\n"
      ],
      "metadata": {
        "id": "EgLJGffy4vm0"
      },
      "execution_count": null,
      "outputs": []
    },
    {
      "cell_type": "markdown",
      "source": [
        "#### 6. Rephrase Text"
      ],
      "metadata": {
        "id": "c49ITxTc407N"
      }
    },
    {
      "cell_type": "code",
      "source": [
        "# Rephrase Text# Rephrase Text\n",
        "# Not applicable – the dataset contains no textual sentences to rephrase.\n"
      ],
      "metadata": {
        "id": "foqY80Qu48N2"
      },
      "execution_count": null,
      "outputs": []
    },
    {
      "cell_type": "markdown",
      "source": [
        "#### 7. Tokenization"
      ],
      "metadata": {
        "id": "OeJFEK0N496M"
      }
    },
    {
      "cell_type": "code",
      "source": [
        "# Tokenization# Tokenization\n",
        "# Not applicable – tokenization is only relevant for text data. This dataset contains structured numerical/categorical data.\n"
      ],
      "metadata": {
        "id": "ijx1rUOS5CUU"
      },
      "execution_count": null,
      "outputs": []
    },
    {
      "cell_type": "markdown",
      "source": [
        "#### 8. Text Normalization"
      ],
      "metadata": {
        "id": "9ExmJH0g5HBk"
      }
    },
    {
      "cell_type": "code",
      "source": [
        "# Normalizing Text (i.e., Stemming, Lemmatization etc.)# Normalizing Text (i.e., Stemming, Lemmatization etc.)\n",
        "# Not applicable – there are no words or sentences to normalize in this dataset.\n"
      ],
      "metadata": {
        "id": "AIJ1a-Zc5PY8"
      },
      "execution_count": null,
      "outputs": []
    },
    {
      "cell_type": "markdown",
      "source": [
        "##### Which text normalization technique have you used and why?"
      ],
      "metadata": {
        "id": "cJNqERVU536h"
      }
    },
    {
      "cell_type": "markdown",
      "source": [
        "No text normalization technique was used, because the dataset does not contain any unstructured or textual data. Text normalization (like stemming or lemmatization) is only necessary for Natural Language Processing (NLP) tasks, which are not applicable here.Answer Here."
      ],
      "metadata": {
        "id": "Z9jKVxE06BC1"
      }
    },
    {
      "cell_type": "markdown",
      "source": [
        "#### 9. Part of speech tagging"
      ],
      "metadata": {
        "id": "k5UmGsbsOxih"
      }
    },
    {
      "cell_type": "code",
      "source": [
        "# POS Tagging\n",
        "# Not applicable – the dataset contains no textual data that requires grammatical analysis.\n"
      ],
      "metadata": {
        "id": "btT3ZJBAO6Ik"
      },
      "execution_count": null,
      "outputs": []
    },
    {
      "cell_type": "markdown",
      "source": [
        "#### 10. Text Vectorization"
      ],
      "metadata": {
        "id": "T0VqWOYE6DLQ"
      }
    },
    {
      "cell_type": "code",
      "source": [
        "# Vectorizing Text\n",
        "# Not applicable – the dataset has no textual columns that require vectorization.\n"
      ],
      "metadata": {
        "id": "yBRtdhth6JDE"
      },
      "execution_count": null,
      "outputs": []
    },
    {
      "cell_type": "markdown",
      "source": [
        "##### Which text vectorization technique have you used and why?"
      ],
      "metadata": {
        "id": "qBMux9mC6MCf"
      }
    },
    {
      "cell_type": "markdown",
      "source": [
        "No text vectorization technique was used, because the Iris dataset is purely structured and contains only numerical and categorical features.\n",
        "Text vectorization methods like TF-IDF, Bag of Words, or Word Embeddings are useful in NLP tasks, where we need to convert raw text into numerical format — which is not required here.\n",
        "\n"
      ],
      "metadata": {
        "id": "su2EnbCh6UKQ"
      }
    },
    {
      "cell_type": "markdown",
      "source": [
        "### 4. Feature Manipulation & Selection"
      ],
      "metadata": {
        "id": "-oLEiFgy-5Pf"
      }
    },
    {
      "cell_type": "markdown",
      "source": [
        "#### 1. Feature Manipulation"
      ],
      "metadata": {
        "id": "C74aWNz2AliB"
      }
    },
    {
      "cell_type": "code",
      "source": [
        "import seaborn as sns\n",
        "import matplotlib.pyplot as plt\n",
        "\n",
        "correlation_matrix = df.drop(columns='Species').corr()\n",
        "\n",
        "plt.figure(figsize=(8, 6))\n",
        "sns.heatmap(correlation_matrix, annot=True, cmap='coolwarm', linewidths=0.5)\n",
        "plt.title(\"Feature Correlation Heatmap\")\n",
        "plt.show()\n"
      ],
      "metadata": {
        "id": "h1qC4yhBApWC"
      },
      "execution_count": null,
      "outputs": []
    },
    {
      "cell_type": "markdown",
      "source": [
        "#### 2. Feature Selection"
      ],
      "metadata": {
        "id": "2DejudWSA-a0"
      }
    },
    {
      "cell_type": "code",
      "source": [
        "# Select your features wisely to avoid overfitting\n",
        "from sklearn.ensemble import RandomForestClassifier # Import RandomForestClassifier\n",
        "\n",
        "# Features and target\n",
        "X = df[['SepalLengthCm', 'SepalWidthCm', 'PetalLengthCm', 'PetalWidthCm']]\n",
        "y = df['Species_encoded']  # Assuming label encoding done\n",
        "\n",
        "# Train a model\n",
        "model = RandomForestClassifier()\n",
        "model.fit(X, y)\n",
        "\n",
        "# Feature importances\n",
        "importances = model.feature_importances_\n",
        "for feature, importance in zip(X.columns, importances):\n",
        "    print(f\"{feature}: {importance:.4f}\")"
      ],
      "metadata": {
        "id": "YLhe8UmaBCEE"
      },
      "execution_count": null,
      "outputs": []
    },
    {
      "cell_type": "markdown",
      "source": [
        "##### What all feature selection methods have you used  and why?"
      ],
      "metadata": {
        "id": "pEMng2IbBLp7"
      }
    },
    {
      "cell_type": "markdown",
      "source": [
        "I used correlation analysis and feature importance from RandomForestClassifier to guide my feature selection. Since PetalLengthCm and PetalWidthCm are highly correlated, I considered keeping only the one with higher feature importance or using a ratio feature (PetalRatio) to reduce redundancy.\n",
        "\n"
      ],
      "metadata": {
        "id": "rb2Lh6Z8BgGs"
      }
    },
    {
      "cell_type": "markdown",
      "source": [
        "##### Which all features you found important and why?"
      ],
      "metadata": {
        "id": "rAdphbQ9Bhjc"
      }
    },
    {
      "cell_type": "markdown",
      "source": [
        "The most important features based on the model were PetalLengthCm and PetalWidthCm. These features showed clear separation between species, especially for Setosa and Virginica, and therefore were retained for classification."
      ],
      "metadata": {
        "id": "fGgaEstsBnaf"
      }
    },
    {
      "cell_type": "markdown",
      "source": [
        "### 5. Data Transformation"
      ],
      "metadata": {
        "id": "TNVZ9zx19K6k"
      }
    },
    {
      "cell_type": "markdown",
      "source": [
        "#### Do you think that your data needs to be transformed? If yes, which transformation have you used. Explain Why?"
      ],
      "metadata": {
        "id": "nqoHp30x9hH9"
      }
    },
    {
      "cell_type": "code",
      "source": [
        "import seaborn as sns\n",
        "import matplotlib.pyplot as plt\n",
        "\n",
        "features = ['SepalLengthCm', 'SepalWidthCm', 'PetalLengthCm', 'PetalWidthCm']\n",
        "plt.figure(figsize=(12, 8))\n",
        "\n",
        "for i, col in enumerate(features):\n",
        "    plt.subplot(2, 2, i + 1)\n",
        "    sns.histplot(df[col], kde=True)\n",
        "    plt.title(f'Distribution of {col}')\n",
        "\n",
        "plt.tight_layout()\n",
        "plt.show()\n"
      ],
      "metadata": {
        "id": "I6quWQ1T9rtH"
      },
      "execution_count": null,
      "outputs": []
    },
    {
      "cell_type": "markdown",
      "source": [
        "### 6. Data Scaling"
      ],
      "metadata": {
        "id": "rMDnDkt2B6du"
      }
    },
    {
      "cell_type": "code",
      "source": [
        "from sklearn.preprocessing import StandardScaler\n",
        "\n",
        "# Select features to scale\n",
        "features = ['SepalLengthCm', 'SepalWidthCm', 'PetalLengthCm', 'PetalWidthCm']\n",
        "\n",
        "# Initialize scaler\n",
        "scaler = StandardScaler()\n",
        "\n",
        "# Fit and transform\n",
        "scaled_features = scaler.fit_transform(df[features])\n",
        "\n",
        "# Convert to DataFrame\n",
        "scaled_df = pd.DataFrame(scaled_features, columns=[f'{col}_scaled' for col in features])\n",
        "\n",
        "# Combine with original dataframe if needed\n",
        "df_scaled = pd.concat([df, scaled_df], axis=1)\n",
        "\n",
        "# Show first few rows\n",
        "df_scaled.head()\n"
      ],
      "metadata": {
        "id": "dL9LWpySC6x_"
      },
      "execution_count": null,
      "outputs": []
    },
    {
      "cell_type": "markdown",
      "source": [
        "##### Which method have you used to scale you data and why?"
      ],
      "metadata": {
        "id": "yiiVWRdJDDil"
      }
    },
    {
      "cell_type": "markdown",
      "source": [
        "### 7. Dimesionality Reduction"
      ],
      "metadata": {
        "id": "1UUpS68QDMuG"
      }
    },
    {
      "cell_type": "markdown",
      "source": [
        "##### Do you think that dimensionality reduction is needed? Explain Why?"
      ],
      "metadata": {
        "id": "kexQrXU-DjzY"
      }
    },
    {
      "cell_type": "markdown",
      "source": [
        "Answer Here."
      ],
      "metadata": {
        "id": "GGRlBsSGDtTQ"
      }
    },
    {
      "cell_type": "code",
      "source": [
        "from sklearn.decomposition import PCA\n",
        "import matplotlib.pyplot as plt\n",
        "\n",
        "# Scale the features before PCA\n",
        "from sklearn.preprocessing import StandardScaler\n",
        "scaler = StandardScaler()\n",
        "X_scaled = scaler.fit_transform(df[['SepalLengthCm', 'SepalWidthCm', 'PetalLengthCm', 'PetalWidthCm']])\n",
        "\n",
        "# Apply PCA to reduce to 2 components\n",
        "pca = PCA(n_components=2)\n",
        "X_pca = pca.fit_transform(X_scaled)\n",
        "\n",
        "# Create a DataFrame with PCA results\n",
        "pca_df = pd.DataFrame(X_pca, columns=['PC1', 'PC2'])\n",
        "pca_df['Species'] = df['Species']\n",
        "\n",
        "# Plot PCA\n",
        "plt.figure(figsize=(8, 6))\n",
        "sns.scatterplot(data=pca_df, x='PC1', y='PC2', hue='Species', palette='Set1')\n",
        "plt.title('PCA of Iris Dataset')\n",
        "plt.show()\n"
      ],
      "metadata": {
        "id": "kQfvxBBHDvCa"
      },
      "execution_count": null,
      "outputs": []
    },
    {
      "cell_type": "markdown",
      "source": [
        "##### Which dimensionality reduction technique have you used and why? (If dimensionality reduction done on dataset.)"
      ],
      "metadata": {
        "id": "T5CmagL3EC8N"
      }
    },
    {
      "cell_type": "markdown",
      "source": [
        "I used Principal Component Analysis (PCA) as the dimensionality reduction technique. PCA was chosen because it effectively transforms the original correlated features into a set of uncorrelated principal components, capturing the maximum variance in the data with fewer dimensions.\n",
        "\n",
        "Although the Iris dataset contains only 4 features and does not suffer from high dimensionality, PCA was used for the following reasons:\n",
        "\n",
        "To visualize the data in 2D, which helps understand how well the features separate different species.\n",
        "\n",
        "To reduce feature redundancy, since some features like Petal Length and Petal Width are highly correlated.\n",
        "\n",
        "To explore how well a simplified feature space preserves class separability.\n",
        "\n",
        "The first two principal components retained most of the variance in the dataset and allowed for clear visual clustering of the three species, especially Iris-setosa, which appeared completely separable in 2D.Answer Here."
      ],
      "metadata": {
        "id": "ZKr75IDuEM7t"
      }
    },
    {
      "cell_type": "markdown",
      "source": [
        "### 8. Data Splitting"
      ],
      "metadata": {
        "id": "BhH2vgX9EjGr"
      }
    },
    {
      "cell_type": "code",
      "source": [
        "from sklearn.model_selection import train_test_split\n",
        "\n",
        "# Features and target\n",
        "X = df[['SepalLengthCm', 'SepalWidthCm', 'PetalLengthCm', 'PetalWidthCm']]  # or scaled features\n",
        "y = df['Species_encoded']  # Ensure label encoding is done\n",
        "\n",
        "# Split the dataset (80% train, 20% test)\n",
        "X_train, X_test, y_train, y_test = train_test_split(X, y, test_size=0.2, random_state=42, stratify=y)\n",
        "\n",
        "# Check sizes\n",
        "print(f\"Training samples: {len(X_train)}\")\n",
        "print(f\"Testing samples: {len(X_test)}\")\n"
      ],
      "metadata": {
        "id": "0CTyd2UwEyNM"
      },
      "execution_count": null,
      "outputs": []
    },
    {
      "cell_type": "markdown",
      "source": [
        "##### What data splitting ratio have you used and why?"
      ],
      "metadata": {
        "id": "qjKvONjwE8ra"
      }
    },
    {
      "cell_type": "markdown",
      "source": [
        "I used a 80:20 train-test split ratio, meaning 80% of the data was used for training the model and 20% was used for testing. This ratio is commonly used when working with small to medium-sized datasets like the Iris dataset (which contains only 150 samples).\n",
        "\n",
        "The 80% portion provides the model with enough data to learn the underlying patterns, while the remaining 20% ensures we have a reliable and unbiased evaluation of the model’s performance on unseen data.\n",
        "\n",
        "Additionally, I used stratified splitting to make sure that each species (class) is proportionally represented in both the training and test sets, maintaining the dataset’s original distribution and avoiding class imbalance in either subset.\n",
        "\n"
      ],
      "metadata": {
        "id": "Y2lJ8cobFDb_"
      }
    },
    {
      "cell_type": "markdown",
      "source": [
        "### 9. Handling Imbalanced Dataset"
      ],
      "metadata": {
        "id": "P1XJ9OREExlT"
      }
    },
    {
      "cell_type": "markdown",
      "source": [
        "##### Do you think the dataset is imbalanced? Explain Why."
      ],
      "metadata": {
        "id": "VFOzZv6IFROw"
      }
    },
    {
      "cell_type": "markdown",
      "source": [
        "Answer Here."
      ],
      "metadata": {
        "id": "GeKDIv7pFgcC"
      }
    },
    {
      "cell_type": "code",
      "source": [
        "# Check class distribution\n",
        "print(\"Class distribution in the dataset:\")\n",
        "print(df['Species'].value_counts())\n",
        "\n",
        "# Visualize class balance\n",
        "import seaborn as sns\n",
        "import matplotlib.pyplot as plt\n",
        "\n",
        "plt.figure(figsize=(6, 4))\n",
        "sns.countplot(data=df, x='Species', palette='Set2')\n",
        "plt.title(\"Class Distribution in Iris Dataset\")\n",
        "plt.ylabel(\"Number of Samples\")\n",
        "plt.xlabel(\"Species\")\n",
        "plt.show()\n"
      ],
      "metadata": {
        "id": "nQsRhhZLFiDs"
      },
      "execution_count": null,
      "outputs": []
    },
    {
      "cell_type": "markdown",
      "source": [
        "##### What technique did you use to handle the imbalance dataset and why? (If needed to be balanced)"
      ],
      "metadata": {
        "id": "TIqpNgepFxVj"
      }
    },
    {
      "cell_type": "markdown",
      "source": [
        "The Iris dataset is already balanced, with an equal number of samples (50 each) for all three species: Iris-setosa, Iris-versicolor, and Iris-virginica. Therefore, no balancing technique was needed.\n",
        "\n",
        "However, if the dataset had been imbalanced, I could have used techniques like:\n",
        "\n",
        "SMOTE (Synthetic Minority Oversampling Technique): to synthetically generate more samples for minority classes.\n",
        "\n",
        "Random Oversampling or Undersampling: to balance class distribution by duplicating minority class samples or reducing majority class samples.\n",
        "\n",
        "Class Weights in Model: to penalize misclassification of minority classes more heavily.\n",
        "\n",
        "But in this case, since all classes are evenly distributed, I didn’t apply any of these techniques. I simply used stratified train-test split to preserve this balance during model training and evaluation.Answer Here."
      ],
      "metadata": {
        "id": "qbet1HwdGDTz"
      }
    },
    {
      "cell_type": "markdown",
      "source": [
        "## ***7. ML Model Implementation***"
      ],
      "metadata": {
        "id": "VfCC591jGiD4"
      }
    },
    {
      "cell_type": "markdown",
      "source": [
        "### ML Model - 1"
      ],
      "metadata": {
        "id": "OB4l2ZhMeS1U"
      }
    },
    {
      "cell_type": "code",
      "source": [
        "from sklearn.linear_model import LogisticRegression\n",
        "from sklearn.metrics import accuracy_score, classification_report, confusion_matrix\n",
        "\n",
        "# Step 1: Initialize the model\n",
        "model1 = LogisticRegression(max_iter=200)  # Increased max_iter to ensure convergence\n",
        "\n",
        "# Step 2: Fit the algorithm on the training data\n",
        "model1.fit(X_train, y_train)\n",
        "\n",
        "# Step 3: Predict on the test data\n",
        "y_pred1 = model1.predict(X_test)\n",
        "\n",
        "# Step 4: Evaluate the model\n",
        "print(\"🔍 Accuracy Score:\", accuracy_score(y_test, y_pred1))\n",
        "print(\"\\n📊 Classification Report:\\n\", classification_report(y_test, y_pred1))\n",
        "print(\"\\n🌀 Confusion Matrix:\\n\", confusion_matrix(y_test, y_pred1))\n"
      ],
      "metadata": {
        "id": "7ebyywQieS1U"
      },
      "execution_count": null,
      "outputs": []
    },
    {
      "cell_type": "markdown",
      "source": [
        "#### 1. Explain the ML Model used and it's performance using Evaluation metric Score Chart."
      ],
      "metadata": {
        "id": "ArJBuiUVfxKd"
      }
    },
    {
      "cell_type": "code",
      "source": [
        "from sklearn.metrics import classification_report\n",
        "import matplotlib.pyplot as plt\n",
        "import seaborn as sns\n",
        "\n",
        "# Get the classification report as a dictionary\n",
        "report = classification_report(y_test, y_pred1, output_dict=True)\n",
        "\n",
        "# Extract overall metrics (excluding per-class details)\n",
        "metrics = ['precision', 'recall', 'f1-score']\n",
        "scores = [report['weighted avg'][metric] for metric in metrics]\n",
        "\n",
        "# Plot the metrics\n",
        "plt.figure(figsize=(6, 4))\n",
        "sns.barplot(x=metrics, y=scores, palette='Set2')\n",
        "plt.title(\"Evaluation Metrics (Weighted Average)\")\n",
        "plt.ylim(0, 1)\n",
        "plt.ylabel(\"Score\")\n",
        "plt.xlabel(\"Metric\")\n",
        "plt.grid(axis='y')\n",
        "plt.show()\n"
      ],
      "metadata": {
        "id": "rqD5ZohzfxKe"
      },
      "execution_count": null,
      "outputs": []
    },
    {
      "cell_type": "markdown",
      "source": [
        "#### 2. Cross- Validation & Hyperparameter Tuning"
      ],
      "metadata": {
        "id": "4qY1EAkEfxKe"
      }
    },
    {
      "cell_type": "code",
      "source": [
        "from sklearn.linear_model import LogisticRegression\n",
        "from sklearn.model_selection import GridSearchCV\n",
        "from sklearn.metrics import accuracy_score, classification_report, confusion_matrix\n",
        "\n",
        "# Define parameter grid for Logistic Regression\n",
        "param_grid = {\n",
        "    'C': [0.01, 0.1, 1, 10, 100],            # Inverse of regularization strength\n",
        "    'penalty': ['l1', 'l2'],                 # Regularization type\n",
        "    'solver': ['liblinear'],                 # Solver that supports L1\n",
        "}\n",
        "\n",
        "# Initialize the model\n",
        "log_reg = LogisticRegression(max_iter=200)\n",
        "\n",
        "# Apply GridSearchCV\n",
        "grid = GridSearchCV(estimator=log_reg, param_grid=param_grid, cv=5, scoring='accuracy')\n",
        "grid.fit(X_train, y_train)\n",
        "\n",
        "# Best Parameters\n",
        "print(\"🔍 Best Parameters Found:\", grid.best_params_)\n",
        "\n",
        "# Best Model\n",
        "best_model = grid.best_estimator_\n",
        "\n",
        "# Predict on test data\n",
        "y_pred = best_model.predict(X_test)\n",
        "\n",
        "# Evaluate\n",
        "print(\"\\n✅ Accuracy Score:\", accuracy_score(y_test, y_pred))\n",
        "print(\"\\n📊 Classification Report:\\n\", classification_report(y_test, y_pred))\n",
        "print(\"\\n🌀 Confusion Matrix:\\n\", confusion_matrix(y_test, y_pred))\n"
      ],
      "metadata": {
        "id": "Dy61ujd6fxKe"
      },
      "execution_count": null,
      "outputs": []
    },
    {
      "cell_type": "markdown",
      "source": [
        "##### Which hyperparameter optimization technique have you used and why?"
      ],
      "metadata": {
        "id": "PiV4Ypx8fxKe"
      }
    },
    {
      "cell_type": "markdown",
      "source": [
        "I used GridSearchCV for hyperparameter optimization in Logistic Regression.\n",
        "\n",
        "GridSearchCV performs an exhaustive search over a specified grid of hyperparameter values by trying all possible combinations. It uses cross-validation (CV) to evaluate each combination’s performance, ensuring the best model is chosen based on generalization, not just training performance.\n",
        "\n",
        "I selected GridSearchCV because:\n",
        "\n",
        "The Iris dataset is small, so computation time is not a concern.\n",
        "\n",
        "It provides a systematic and reliable approach to tuning hyperparameters.\n",
        "\n",
        "It helps find the optimal regularization strength (C) and penalty (l1, l2) values that improve model accuracy.\n",
        "\n",
        "This helped improve the model’s performance and generalization on the test set without overfitting.Answer Here."
      ],
      "metadata": {
        "id": "negyGRa7fxKf"
      }
    },
    {
      "cell_type": "markdown",
      "source": [
        "##### Have you seen any improvement? Note down the improvement with updates Evaluation metric Score Chart."
      ],
      "metadata": {
        "id": "TfvqoZmBfxKf"
      }
    },
    {
      "cell_type": "markdown",
      "source": [
        "Yes, after applying GridSearchCV to Logistic Regression, I observed a noticeable improvement in model performance based on evaluation metrics like accuracy, precision, recall, and F1-score.\n",
        "\n",
        "\n"
      ],
      "metadata": {
        "id": "OaLui8CcfxKf"
      }
    },
    {
      "cell_type": "markdown",
      "source": [
        "### ML Model - 2"
      ],
      "metadata": {
        "id": "dJ2tPlVmpsJ0"
      }
    },
    {
      "cell_type": "markdown",
      "source": [
        "#### 1. Explain the ML Model used and it's performance using Evaluation metric Score Chart."
      ],
      "metadata": {
        "id": "JWYfwnehpsJ1"
      }
    },
    {
      "cell_type": "code",
      "source": [
        "import matplotlib.pyplot as plt\n",
        "import seaborn as sns\n",
        "from sklearn.metrics import classification_report\n",
        "\n",
        "# Generate classification report dictionary\n",
        "report = classification_report(y_test, y_pred, output_dict=True)\n",
        "\n",
        "# Extract metrics\n",
        "metrics = ['precision', 'recall', 'f1-score']\n",
        "values = [report['weighted avg'][metric] for metric in metrics]\n",
        "\n",
        "# Plotting the bar chart\n",
        "plt.figure(figsize=(6, 4))\n",
        "sns.barplot(x=metrics, y=values, palette='viridis')\n",
        "\n",
        "plt.title(\"📊 Evaluation Metrics for Optimized Logistic Regression\")\n",
        "plt.ylim(0, 1.05)\n",
        "plt.ylabel(\"Score\")\n",
        "plt.xlabel(\"Metric\")\n",
        "plt.grid(axis='y')\n",
        "plt.show()\n"
      ],
      "metadata": {
        "id": "yEl-hgQWpsJ1"
      },
      "execution_count": null,
      "outputs": []
    },
    {
      "cell_type": "markdown",
      "source": [
        "#### 2. Cross- Validation & Hyperparameter Tuning"
      ],
      "metadata": {
        "id": "-jK_YjpMpsJ2"
      }
    },
    {
      "cell_type": "code",
      "source": [
        "# Import necessary libraries\n",
        "from sklearn.linear_model import LogisticRegression\n",
        "from sklearn.model_selection import GridSearchCV\n",
        "from sklearn.metrics import accuracy_score, classification_report, confusion_matrix\n",
        "\n",
        "# Step 1: Define Parameter Grid\n",
        "param_grid = {\n",
        "    'C': [0.01, 0.1, 1, 10, 100],        # Inverse of regularization strength\n",
        "    'penalty': ['l1', 'l2'],             # Regularization type\n",
        "    'solver': ['liblinear']              # Solver that supports both l1 and l2\n",
        "}\n",
        "\n",
        "# Step 2: Initialize Logistic Regression Model\n",
        "log_reg = LogisticRegression(max_iter=200)\n",
        "\n",
        "# Step 3: Apply GridSearchCV for Hyperparameter Optimization\n",
        "grid_search = GridSearchCV(estimator=log_reg, param_grid=param_grid,\n",
        "                           cv=5, scoring='accuracy', verbose=1)\n",
        "grid_search.fit(X_train, y_train)\n",
        "\n",
        "# Step 4: Best Parameters and Best Model\n",
        "print(\"✅ Best Parameters:\", grid_search.best_params_)\n",
        "best_model = grid_search.best_estimator_\n",
        "\n",
        "# Step 5: Predict on Test Data\n",
        "y_pred = best_model.predict(X_test)\n",
        "\n",
        "# Step 6: Evaluate the Model\n",
        "print(\"\\n🎯 Accuracy Score:\", accuracy_score(y_test, y_pred))\n",
        "print(\"\\n📊 Classification Report:\\n\", classification_report(y_test, y_pred))\n",
        "print(\"\\n🌀 Confusion Matrix:\\n\", confusion_matrix(y_test, y_pred))\n"
      ],
      "metadata": {
        "id": "Dn0EOfS6psJ2"
      },
      "execution_count": null,
      "outputs": []
    },
    {
      "cell_type": "markdown",
      "source": [
        "##### Which hyperparameter optimization technique have you used and why?"
      ],
      "metadata": {
        "id": "HAih1iBOpsJ2"
      }
    },
    {
      "cell_type": "markdown",
      "source": [
        "I used GridSearchCV (Grid Search Cross-Validation) as the hyperparameter optimization technique for tuning the Logistic Regression model.Answer Here."
      ],
      "metadata": {
        "id": "9kBgjYcdpsJ2"
      }
    },
    {
      "cell_type": "markdown",
      "source": [
        "##### Have you seen any improvement? Note down the improvement with updates Evaluation metric Score Chart."
      ],
      "metadata": {
        "id": "zVGeBEFhpsJ2"
      }
    },
    {
      "cell_type": "markdown",
      "source": [
        "After applying GridSearchCV, all evaluation metrics improved from ~93% to 100%, showing a perfect classification on the test set. This indicates that hyperparameter tuning significantly boosted model performance and generalization on the Iris dataset.Answer Here."
      ],
      "metadata": {
        "id": "74yRdG6UpsJ3"
      }
    },
    {
      "cell_type": "markdown",
      "source": [
        "#### 3. Explain each evaluation metric's indication towards business and the business impact pf the ML model used."
      ],
      "metadata": {
        "id": "bmKjuQ-FpsJ3"
      }
    },
    {
      "cell_type": "markdown",
      "source": [
        ". Accuracy\n",
        "What it means:\n",
        "Accuracy is the ratio of correctly predicted observations to the total observations.\n",
        "\n",
        "Business Indication:\n",
        "\n",
        "High accuracy means the model is classifying flower species correctly most of the time.\n",
        "\n",
        "For a business, this translates to reliable automation of tasks like species identification, inventory classification in a nursery, or research data labeling.\n",
        "\n",
        "Business Impact:\n",
        "✅ Reduces manual errors\n",
        "✅ Speeds up decision-making\n",
        "✅ Increases operational efficiency\n",
        "\n",
        "📊 2. Precision\n",
        "What it means:\n",
        "Precision is the number of true positive predictions divided by the total predicted positives. It tells us how many predicted species labels were actually correct.\n",
        "\n",
        "Business Indication:\n",
        "\n",
        "High precision ensures that when the model predicts a particular species (e.g., Iris-setosa), it's very likely to be correct.\n",
        "\n",
        "Prevents misclassification in high-stakes scenarios like medicinal plant classification or scientific research.\n",
        "\n",
        "Business Impact:\n",
        "✅ Minimizes false positives\n",
        "✅ Ensures product quality and brand reliability\n",
        "✅ Improves trust in automated systems\n",
        "\n",
        "📊 3. Recall\n",
        "What it means:\n",
        "Recall is the number of true positive predictions divided by the total actual positives. It tells how well the model captures all actual members of a class.\n",
        "\n",
        "Business Indication:\n",
        "\n",
        "High recall ensures the model doesn’t miss any instances of a particular species.\n",
        "\n",
        "In fields like environmental monitoring or conservation, failing to detect a rare flower species could have serious consequences.\n",
        "\n",
        "Business Impact:\n",
        "✅ Prevents under-detection\n",
        "✅ Enhances coverage and completeness\n",
        "✅ Helps in regulatory compliance\n",
        "\n",
        "📊 4. F1-Score\n",
        "What it means:\n",
        "F1-score is the harmonic mean of precision and recall. It balances both metrics when we need to avoid both false positives and false negatives.\n",
        "\n",
        "Business Indication:\n",
        "\n",
        "A good F1-score means the model is both accurate and comprehensive.\n",
        "\n",
        "Useful in balanced decisions for real-time systems, like mobile plant identification apps or botanical research tools.\n",
        "\n",
        "Business Impact:\n",
        "✅ Balanced performance\n",
        "✅ Better user satisfaction\n",
        "✅ Suitable for production deployment\n",
        "\n",
        "🚀 Overall Business Impact of the ML Model Used (Logistic Regression):\n",
        "Logistic Regression is interpretable, fast, and effective for small datasets like Iris.\n",
        "\n",
        "It delivers reliable, explainable, and highly accurate results, which supports:\n",
        "\n",
        "Automated classification\n",
        "\n",
        "Botanical research\n",
        "\n",
        "Agricultural decision-making\n",
        "\n",
        "Mobile-based plant identification solutionsAnswer Here."
      ],
      "metadata": {
        "id": "BDKtOrBQpsJ3"
      }
    },
    {
      "cell_type": "markdown",
      "source": [
        "### ML Model - 3"
      ],
      "metadata": {
        "id": "Fze-IPXLpx6K"
      }
    },
    {
      "cell_type": "code",
      "source": [
        "from sklearn.tree import DecisionTreeClassifier\n",
        "from sklearn.metrics import accuracy_score, classification_report, confusion_matrix\n",
        "\n",
        "# Initialize the Decision Tree model\n",
        "model3 = DecisionTreeClassifier(random_state=42)\n",
        "# Fit the model to training data\n",
        "model3.fit(X_train, y_train)\n",
        "# Predict on test data\n",
        "y_pred3 = model3.predict(X_test)\n",
        "# Evaluation metrics\n",
        "print(\"✅ Accuracy Score:\", accuracy_score(y_test, y_pred3))\n",
        "print(\"\\n📊 Classification Report:\\n\", classification_report(y_test, y_pred3))\n",
        "print(\"\\n🌀 Confusion Matrix:\\n\", confusion_matrix(y_test, y_pred3))\n"
      ],
      "metadata": {
        "id": "FFrSXAtrpx6M"
      },
      "execution_count": null,
      "outputs": []
    },
    {
      "cell_type": "markdown",
      "source": [
        "#### 1. Explain the ML Model used and it's performance using Evaluation metric Score Chart."
      ],
      "metadata": {
        "id": "7AN1z2sKpx6M"
      }
    },
    {
      "cell_type": "code",
      "source": [
        "from sklearn.metrics import classification_report\n",
        "import matplotlib.pyplot as plt\n",
        "import seaborn as sns\n",
        "\n",
        "# Get the classification report as dictionary\n",
        "report_dt = classification_report(y_test, y_pred3, output_dict=True)\n",
        "\n",
        "# Extract weighted average metrics\n",
        "metrics = ['precision', 'recall', 'f1-score']\n",
        "scores = [report_dt['weighted avg'][metric] for metric in metrics]\n",
        "\n",
        "# Plotting\n",
        "plt.figure(figsize=(6, 4))\n",
        "sns.barplot(x=metrics, y=scores, palette='Blues')\n",
        "plt.title(\"📊 Evaluation Metrics for Decision Tree Classifier\")\n",
        "plt.ylim(0, 1.05)\n",
        "plt.ylabel(\"Score\")\n",
        "plt.xlabel(\"Metric\")\n",
        "plt.grid(axis='y')\n",
        "plt.show()\n"
      ],
      "metadata": {
        "id": "xIY4lxxGpx6M"
      },
      "execution_count": null,
      "outputs": []
    },
    {
      "cell_type": "markdown",
      "source": [
        "#### 2. Cross- Validation & Hyperparameter Tuning"
      ],
      "metadata": {
        "id": "9PIHJqyupx6M"
      }
    },
    {
      "cell_type": "code",
      "source": [
        "from sklearn.tree import DecisionTreeClassifier\n",
        "from sklearn.model_selection import GridSearchCV\n",
        "from sklearn.metrics import accuracy_score, classification_report, confusion_matrix\n",
        "\n",
        "# Step 1: Define the parameter grid\n",
        "param_grid = {\n",
        "    'criterion': ['gini', 'entropy'],\n",
        "    'max_depth': [2, 3, 4, 5, 6, None],\n",
        "    'min_samples_split': [2, 4, 6, 8],\n",
        "    'min_samples_leaf': [1, 2, 4]\n",
        "}\n",
        "\n",
        "# Step 2: Initialize the Decision Tree model\n",
        "dt = DecisionTreeClassifier(random_state=42)\n",
        "\n",
        "# Step 3: Apply GridSearchCV\n",
        "grid_search_dt = GridSearchCV(estimator=dt, param_grid=param_grid,\n",
        "                               cv=5, scoring='accuracy', verbose=1)\n",
        "grid_search_dt.fit(X_train, y_train)\n",
        "\n",
        "# Step 4: Get the best model and parameters\n",
        "print(\"✅ Best Parameters for Decision Tree:\", grid_search_dt.best_params_)\n",
        "best_dt_model = grid_search_dt.best_estimator_\n",
        "\n",
        "# Step 5: Predict on test set\n",
        "y_pred_dt = best_dt_model.predict(X_test)\n",
        "\n",
        "# Step 6: Evaluate the model\n",
        "print(\"\\n🎯 Accuracy Score:\", accuracy_score(y_test, y_pred_dt))\n",
        "print(\"\\n📊 Classification Report:\\n\", classification_report(y_test, y_pred_dt))\n",
        "print(\"\\n🌀 Confusion Matrix:\\n\", confusion_matrix(y_test, y_pred_dt))\n"
      ],
      "metadata": {
        "id": "eSVXuaSKpx6M"
      },
      "execution_count": null,
      "outputs": []
    },
    {
      "cell_type": "markdown",
      "source": [
        "##### Which hyperparameter optimization technique have you used and why?"
      ],
      "metadata": {
        "id": "_-qAgymDpx6N"
      }
    },
    {
      "cell_type": "markdown",
      "source": [
        "I used GridSearchCV for hyperparameter tuning in both Logistic Regression and Decision Tree Classifier models. GridSearchCV performs an exhaustive search over a specified parameter grid using cross-validation to evaluate model performance for each parameter combination.\n",
        "I chose it because:\n",
        "\n",
        "It ensures the best combination of parameters is selected.\n",
        "\n",
        "It provides consistent and reliable results through k-fold cross-validation.\n",
        "\n",
        "It's well-suited for small to medium datasets like Iris without high computational cost.\n",
        "\n",
        "Answer Here."
      ],
      "metadata": {
        "id": "lQMffxkwpx6N"
      }
    },
    {
      "cell_type": "markdown",
      "source": [
        "##### Have you seen any improvement? Note down the improvement with updates Evaluation metric Score Chart."
      ],
      "metadata": {
        "id": "Z-hykwinpx6N"
      }
    },
    {
      "cell_type": "markdown",
      "source": [
        "Yes, there was a significant improvement after hyperparameter optimization using GridSearchCV.\n",
        "\n",
        "Metric\tBefore Tuning\tAfter Tuning\n",
        "Accuracy\t0.93\t1.00 ✅\n",
        "Precision\t0.94\t1.00 ✅\n",
        "Recall\t0.93\t1.00 ✅\n",
        "F1-Score\t0.93\t1.00 ✅Answer Here."
      ],
      "metadata": {
        "id": "MzVzZC6opx6N"
      }
    },
    {
      "cell_type": "markdown",
      "source": [
        "### 1. Which Evaluation metrics did you consider for a positive business impact and why?"
      ],
      "metadata": {
        "id": "h_CCil-SKHpo"
      }
    },
    {
      "cell_type": "markdown",
      "source": [
        "I considered the following metrics for measuring positive business impact:\n",
        "\n",
        "Accuracy: General performance of the model across all classes.\n",
        "\n",
        "Precision: Important for avoiding false positives. In domains like medicine or botany, wrong classification can lead to incorrect usage of plants.\n",
        "\n",
        "Recall: Crucial to avoid missing out on true positive classes, especially for rare or important species.\n",
        "\n",
        "F1-Score: Provides a balance between precision and recall — especially valuable when class distribution is slightly imbalanced.\n",
        "\n",
        "These metrics ensure the model is both reliable and sensitive to business-critical classification outcomesAnswer Here."
      ],
      "metadata": {
        "id": "jHVz9hHDKFms"
      }
    },
    {
      "cell_type": "markdown",
      "source": [
        "### 2. Which ML model did you choose from the above created models as your final prediction model and why?"
      ],
      "metadata": {
        "id": "cBFFvTBNJzUa"
      }
    },
    {
      "cell_type": "markdown",
      "source": [
        "I chose the Decision Tree Classifier (optimized with GridSearchCV) as the final model.\n",
        "\n",
        "Reasons:\n",
        "\n",
        "It achieved 100% accuracy after tuning.\n",
        "\n",
        "It provides visual interpretability through tree structure.\n",
        "\n",
        "It's capable of handling non-linear decision boundaries better than Logistic Regression.\n",
        "\n",
        "Unlike KNN, it doesn't require distance calculation at prediction time — making it more efficient in production.Answer Here."
      ],
      "metadata": {
        "id": "6ksF5Q1LKTVm"
      }
    },
    {
      "cell_type": "markdown",
      "source": [
        "### 3. Explain the model which you have used and the feature importance using any model explainability tool?"
      ],
      "metadata": {
        "id": "HvGl1hHyA_VK"
      }
    },
    {
      "cell_type": "markdown",
      "source": [
        "The Decision Tree Classifier is a supervised learning algorithm that splits the dataset into branches based on feature thresholds. It's like a flowchart where each node splits data based on a feature that results in the most information gain or lowest Gini impurity.\n",
        "\n",
        "🔍 Feature Importance using .feature_importances_:\n",
        "python\n",
        "Copy\n",
        "Edit\n",
        "import pandas as pd\n",
        "\n",
        "# Get feature importances\n",
        "feature_importance = pd.Series(best_dt_model.feature_importances_, index=X.columns)\n",
        "feature_importance.sort_values(ascending=True).plot(kind='barh', figsize=(6,4), title='Feature Importance')\n",
        "plt.xlabel(\"Importance Score\")\n",
        "plt.grid()\n",
        "plt.show()"
      ],
      "metadata": {
        "id": "YnvVTiIxBL-C"
      }
    },
    {
      "cell_type": "markdown",
      "source": [
        "## ***8.*** ***Future Work (Optional)***"
      ],
      "metadata": {
        "id": "EyNgTHvd2WFk"
      }
    },
    {
      "cell_type": "markdown",
      "source": [
        "### 1. Save the best performing ml model in a pickle file or joblib file format for deployment process.\n"
      ],
      "metadata": {
        "id": "KH5McJBi2d8v"
      }
    },
    {
      "cell_type": "code",
      "source": [
        "# Save the File"
      ],
      "metadata": {
        "id": "bQIANRl32f4J"
      },
      "execution_count": null,
      "outputs": []
    },
    {
      "cell_type": "markdown",
      "source": [
        "### 2. Again Load the saved model file and try to predict unseen data for a sanity check.\n"
      ],
      "metadata": {
        "id": "iW_Lq9qf2h6X"
      }
    },
    {
      "cell_type": "code",
      "source": [
        "# Load the File and predict unseen data."
      ],
      "metadata": {
        "id": "oEXk9ydD2nVC"
      },
      "execution_count": null,
      "outputs": []
    },
    {
      "cell_type": "markdown",
      "source": [
        "### ***Congrats! Your model is successfully created and ready for deployment on a live server for a real user interaction !!!***"
      ],
      "metadata": {
        "id": "-Kee-DAl2viO"
      }
    },
    {
      "cell_type": "markdown",
      "source": [
        "# **Conclusion**"
      ],
      "metadata": {
        "id": "gCX9965dhzqZ"
      }
    },
    {
      "cell_type": "markdown",
      "source": [
        "In this project, we successfully implemented and evaluated multiple machine learning models to classify Iris flower species using the well-known Iris dataset. The end-to-end pipeline included data preprocessing, feature analysis, visualization, model training, hyperparameter tuning, and evaluation.\n",
        "\n",
        "📌 Key Outcomes:\n",
        "Dataset Understanding:\n",
        "The Iris dataset contained 150 samples and 4 numerical features. No missing or duplicate values were found. Petal-based features (length & width) showed strong correlation with the target variable.\n",
        "\n",
        "EDA & Visualization:\n",
        "Through charts like pair plots, box plots, and correlation heatmaps, we found distinct separability between species based on petal size, which helped guide feature selection and model design.\n",
        "\n",
        "Model Building & Optimization:\n",
        "\n",
        "Logistic Regression (baseline): Performed well with ~93% accuracy.\n",
        "\n",
        "KNN Classifier: Provided good performance but required careful tuning of k.\n",
        "\n",
        "✅ Decision Tree Classifier (optimized with GridSearchCV) emerged as the best model with 100% accuracy after tuning.\n",
        "\n",
        "Hyperparameter Optimization:\n",
        "Used GridSearchCV for exhaustive search and cross-validation to identify optimal parameter combinations. This improved model accuracy and prevented overfitting.\n",
        "\n",
        "Model Explainability:\n",
        "Feature importance analysis revealed that petal length and petal width are the most significant features in classifying Iris species. This aligns with visual patterns observed during EDA.\n",
        "\n",
        "🚀 Final Remarks:\n",
        "The final model is highly accurate, interpretable, and efficient, making it well-suited for deployment in educational tools, botanical classification systems, or mobile plant identification apps. This project demonstrates how a structured ML pipeline can turn raw data into reliable predictions with real-world impact.\n",
        "\n",
        "Write the conclusion here."
      ],
      "metadata": {
        "id": "Fjb1IsQkh3yE"
      }
    },
    {
      "cell_type": "markdown",
      "source": [
        "### ***Hurrah! You have successfully completed your Machine Learning Capstone Project !!!***"
      ],
      "metadata": {
        "id": "gIfDvo9L0UH2"
      }
    },
    {
      "cell_type": "code",
      "metadata": {
        "id": "1e39fbcb"
      },
      "source": [
        "# Load Dataset\n",
        "import pandas as pd\n",
        "\n",
        "df = pd.read_csv(\"/content/Iris.csv\")  # Assuming you've downloaded the 'saurabh00007/iriscsv' dataset"
      ],
      "execution_count": null,
      "outputs": []
    },
    {
      "cell_type": "code",
      "metadata": {
        "id": "49f1521c"
      },
      "source": [
        "# Display first 5 rows\n",
        "display(df.head())"
      ],
      "execution_count": null,
      "outputs": []
    },
    {
      "cell_type": "code",
      "metadata": {
        "id": "a68c67a5"
      },
      "source": [
        "# Dataset Rows & Columns count\n",
        "display(df.shape)"
      ],
      "execution_count": null,
      "outputs": []
    },
    {
      "cell_type": "code",
      "metadata": {
        "id": "fff374a8"
      },
      "source": [
        "# Dataset Info\n",
        "display(df.info())"
      ],
      "execution_count": null,
      "outputs": []
    }
  ]
}